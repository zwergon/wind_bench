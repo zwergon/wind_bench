{
  "cells": [
    {
      "cell_type": "code",
      "execution_count": 1,
      "metadata": {
        "gather": {
          "logged": 1701366275724
        }
      },
      "outputs": [
        {
          "name": "stderr",
          "output_type": "stream",
          "text": [
            "Found the config file in: /config.json\n"
          ]
        },
        {
          "name": "stdout",
          "output_type": "stream",
          "text": [
            "azureml://subscriptions/8a889cf2-7b3d-4003-824e-b503f56604b0/resourcegroups/rg-jef-ml/workspaces/ml-gpu/datastores/workspaceblobstore/paths/UI/2023-11-29_114659_UTC/wind_bench.parquet/\n"
          ]
        }
      ],
      "source": [
        "\n",
        "from azure.ai.ml import MLClient\n",
        "from azure.identity import DefaultAzureCredential\n",
        "\n",
        "ml_client = MLClient.from_config(credential=DefaultAzureCredential())\n",
        "data_asset = ml_client.data.get(\"wind_bench\", version=\"1\")\n",
        "\n",
        "print(data_asset.path)\n"
      ]
    },
    {
      "cell_type": "code",
      "execution_count": 2,
      "metadata": {
        "gather": {
          "logged": 1701366320614
        },
        "jupyter": {
          "outputs_hidden": false,
          "source_hidden": false
        },
        "nteract": {
          "transient": {
            "deleting": false
          }
        }
      },
      "outputs": [
        {
          "name": "stdout",
          "output_type": "stream",
          "text": [
            "UI/2023-11-29_114659_UTC/wind_bench.parquet/id=Exp0/5657695901cb4b018ed3e459b9c10e21-0.parquet\n"
          ]
        },
        {
          "data": {
            "text/html": [
              "<div>\n",
              "<style scoped>\n",
              "    .dataframe tbody tr th:only-of-type {\n",
              "        vertical-align: middle;\n",
              "    }\n",
              "\n",
              "    .dataframe tbody tr th {\n",
              "        vertical-align: top;\n",
              "    }\n",
              "\n",
              "    .dataframe thead th {\n",
              "        text-align: right;\n",
              "    }\n",
              "</style>\n",
              "<table border=\"1\" class=\"dataframe\">\n",
              "  <thead>\n",
              "    <tr style=\"text-align: right;\">\n",
              "      <th></th>\n",
              "      <th>Tower mid rotation y [deg]</th>\n",
              "    </tr>\n",
              "  </thead>\n",
              "  <tbody>\n",
              "    <tr>\n",
              "      <th>count</th>\n",
              "      <td>12000.000000</td>\n",
              "    </tr>\n",
              "    <tr>\n",
              "      <th>mean</th>\n",
              "      <td>-0.040897</td>\n",
              "    </tr>\n",
              "    <tr>\n",
              "      <th>std</th>\n",
              "      <td>0.008514</td>\n",
              "    </tr>\n",
              "    <tr>\n",
              "      <th>min</th>\n",
              "      <td>-0.075000</td>\n",
              "    </tr>\n",
              "    <tr>\n",
              "      <th>25%</th>\n",
              "      <td>-0.046597</td>\n",
              "    </tr>\n",
              "    <tr>\n",
              "      <th>50%</th>\n",
              "      <td>-0.040464</td>\n",
              "    </tr>\n",
              "    <tr>\n",
              "      <th>75%</th>\n",
              "      <td>-0.034768</td>\n",
              "    </tr>\n",
              "    <tr>\n",
              "      <th>max</th>\n",
              "      <td>-0.016649</td>\n",
              "    </tr>\n",
              "  </tbody>\n",
              "</table>\n",
              "</div>"
            ],
            "text/plain": [
              "       Tower mid rotation y [deg]\n",
              "count                12000.000000\n",
              "mean                    -0.040897\n",
              "std                      0.008514\n",
              "min                     -0.075000\n",
              "25%                     -0.046597\n",
              "50%                     -0.040464\n",
              "75%                     -0.034768\n",
              "max                     -0.016649"
            ]
          },
          "execution_count": 2,
          "metadata": {},
          "output_type": "execute_result"
        }
      ],
      "source": [
        "import pandas as pd\n",
        "from azureml.fsspec import AzureMachineLearningFileSystem\n",
        "\n",
        "fs = AzureMachineLearningFileSystem(data_asset.path)\n",
        "dirs = fs.glob('**/*.parquet')\n",
        "\n",
        "print(dirs[0])\n",
        "\n",
        "with fs.open(dirs[0]) as f:\n",
        "    df = pd.read_parquet(f, columns=[\"Tower mid rotation y [deg]\"])\n",
        "df.describe()\n"
      ]
    },
    {
      "cell_type": "code",
      "execution_count": 4,
      "metadata": {
        "gather": {
          "logged": 1701366377428
        },
        "jupyter": {
          "outputs_hidden": false,
          "source_hidden": false
        },
        "nteract": {
          "transient": {
            "deleting": false
          }
        }
      },
      "outputs": [
        {
          "data": {
            "text/plain": [
              "Tower mid rotation y [deg]: double\n",
              "-- schema metadata --\n",
              "pandas: '{\"index_columns\": [\"Time\"], \"column_indexes\": [{\"name\": null, \"f' + 24267"
            ]
          },
          "execution_count": 4,
          "metadata": {},
          "output_type": "execute_result"
        }
      ],
      "source": [
        "import pyarrow.parquet as pq\n",
        "\n",
        "\n",
        "with fs.open(dirs[0]) as f:\n",
        "    df = pq.read_table(f, columns=[\"Tower mid rotation y [deg]\"])\n",
        "\n",
        "df.schema\n"
      ]
    },
    {
      "cell_type": "code",
      "execution_count": null,
      "metadata": {
        "gather": {
          "logged": 1701274853950
        },
        "jupyter": {
          "outputs_hidden": false,
          "source_hidden": false
        },
        "nteract": {
          "transient": {
            "deleting": false
          }
        }
      },
      "outputs": [],
      "source": [
        "\n",
        "from azure.ai.ml import MLClient, command, Input\n",
        "from azure.ai.ml.constants import AssetTypes, InputOutputModes\n",
        "from azure.identity import DefaultAzureCredential\n",
        "\n",
        "ml_client = MLClient.from_config(credential=DefaultAzureCredential())\n",
        "\n",
        "data_asset = ml_client.data.get(\"wind_bench\", version=\"1\")\n",
        "\n",
        "# to successfully create a job, customize the parameters below based on your workspace resources\n",
        "job = command(\n",
        "        command='ls \"${{inputs.data}}\"',\n",
        "        inputs={\n",
        "            \"data\": Input(path=data_asset.id,\n",
        "                type=AssetTypes.URI_FOLDER,\n",
        "                mode=InputOutputModes.RO_MOUNT\n",
        "            )\n",
        "        },\n",
        "        environment=\"azureml:AzureML-sklearn-1.0-ubuntu20.04-py38-cpu@latest\"\n",
        "      )\n",
        "returned_job = ml_client.jobs.create_or_update(job)"
      ]
    },
    {
      "cell_type": "code",
      "execution_count": 5,
      "metadata": {
        "gather": {
          "logged": 1701452114276
        },
        "jupyter": {
          "outputs_hidden": false,
          "source_hidden": false
        },
        "nteract": {
          "transient": {
            "deleting": false
          }
        }
      },
      "outputs": [
        {
          "name": "stderr",
          "output_type": "stream",
          "text": [
            "Found the config file in: /config.json\n"
          ]
        },
        {
          "data": {
            "text/plain": [
              "'https://ml.azure.com/runs/frosty_truck_yd37n2kkh5?wsid=/subscriptions/8a889cf2-7b3d-4003-824e-b503f56604b0/resourcegroups/rg-jef-ml/workspaces/ml-gpu&tid=8de15a81-f1b0-42ee-86ae-ca75c1b8ba65'"
            ]
          },
          "execution_count": 5,
          "metadata": {},
          "output_type": "execute_result"
        }
      ],
      "source": [
        "\n",
        "from azure.ai.ml import command\n",
        "from azure.ai.ml.entities import Data\n",
        "from azure.ai.ml import Input, Output\n",
        "from azure.ai.ml.constants import AssetTypes\n",
        "from azure.ai.ml import MLClient\n",
        "from azure.identity import DefaultAzureCredential\n",
        "\n",
        "ml_client = MLClient.from_config(credential=DefaultAzureCredential())\n",
        "\n",
        "\n",
        "subscription_id = '8a889cf2-7b3d-4003-824e-b503f56604b0'\n",
        "resource_group = 'rg-jef-ml'\n",
        "workspace ='ml-gpu'\n",
        "input_parquet_file = 'UI/2023-11-29_114659_UTC/wind_bench.parquet'\n",
        "output_parquet_file = 'UI/2023-11-29_114659_UTC/wind_bench_1000_1028.parquet'\n",
        "inputs = {\n",
        "    \"input_parquet\": Input(\n",
        "        type=AssetTypes.URI_FOLDER, \n",
        "        path=\"azureml://subscriptions/{}/resourcegroups/{}/workspaces/{}/datastores/workspaceblobstore/paths/{}\".format(\n",
        "            subscription_id, resource_group, workspace, input_parquet_file\n",
        "        ))\n",
        "}\n",
        "\n",
        "outputs = {\n",
        "    \"output_parquet\": Output(\n",
        "        type=AssetTypes.URI_FOLDER,\n",
        "        path=\"azureml://subscriptions/{}/resourcegroups/{}/workspaces/{}/datastores/workspaceblobstore/paths/{}\".format(\n",
        "            subscription_id, resource_group, workspace, output_parquet_file\n",
        "        ))\n",
        "}\n",
        "\n",
        "job = command(\n",
        "    code=\"../scripts/dataset\",  # local path where the code is stored\n",
        "    command=\"python split_ml_parquet.py -i ${{inputs.input_parquet}} -o ${{outputs.output_parquet}} -n 1000 -s 1028\",\n",
        "    inputs=inputs,\n",
        "    outputs=outputs,\n",
        "    environment=\"wind_env:2\",\n",
        "    compute=\"cpu-32G\",\n",
        ")\n",
        "\n",
        "# submit the command\n",
        "returned_job = ml_client.create_or_update(job)\n",
        "# get a URL for the status of the job\n",
        "returned_job.studio_url"
      ]
    },
    {
      "cell_type": "code",
      "execution_count": 11,
      "metadata": {
        "jupyter": {
          "outputs_hidden": false,
          "source_hidden": false
        },
        "nteract": {
          "transient": {
            "deleting": false
          }
        }
      },
      "outputs": [
        {
          "name": "stderr",
          "output_type": "stream",
          "text": [
            "Found the config file in: /config.json\n"
          ]
        },
        {
          "name": "stdout",
          "output_type": "stream",
          "text": [
            "/subscriptions/8a889cf2-7b3d-4003-824e-b503f56604b0/resourceGroups/rg-jef-ml/providers/Microsoft.MachineLearningServices/workspaces/ml-gpu/data/wind_bench_100_128/versions/1\n"
          ]
        },
        {
          "name": "stderr",
          "output_type": "stream",
          "text": [
            "\u001b[32mUploading wind_bench (46.57 MBs): 100%|██████████████████████████████████████████████████████████████████████████████████████████████████████████████████████████████████████████████████████████████████████████████████████████████████████████████████████████████████████████████████████████████████████████████████████████████████████████████████████████████████████████████████████████████████████████████████████████████████████████████████████████████████████████████████████████████████████████████████████████████████████████████████████████████████████████████████████████████████████████████████████████████████████████████████████████████████████████████████████████████████████████████████████████████████████████████████████████████████████████████████████████████████████████████████████████████████████████████████████████████████████████████████████████████████████████████████████████████████████████████████████████████████████████████| 46573998/46573998 [00:02<00:00, 19230400.67it/s]\u001b[0m\n",
            "\u001b[39m\n",
            "\n"
          ]
        },
        {
          "data": {
            "text/plain": [
              "'https://ml.azure.com/runs/cyan_bear_rmlf80tlst?wsid=/subscriptions/8a889cf2-7b3d-4003-824e-b503f56604b0/resourcegroups/rg-jef-ml/workspaces/ml-gpu&tid=8de15a81-f1b0-42ee-86ae-ca75c1b8ba65'"
            ]
          },
          "execution_count": 11,
          "metadata": {},
          "output_type": "execute_result"
        }
      ],
      "source": [
        "from azure.ai.ml import command\n",
        "from azure.ai.ml.entities import Data\n",
        "from azure.ai.ml import Input, Output\n",
        "from azure.ai.ml.constants import AssetTypes, InputOutputModes\n",
        "from azure.ai.ml import MLClient\n",
        "from azure.identity import DefaultAzureCredential\n",
        "\n",
        "ml_client = MLClient.from_config(credential=DefaultAzureCredential())\n",
        "\n",
        "data_asset = ml_client.data.get(\"wind_bench_100_128\", version=\"1\")\n",
        "print(data_asset.id)\n",
        "\n",
        "inputs = {\n",
        "    \"input_parquet\": Input(\n",
        "                path=data_asset.id,\n",
        "                type=AssetTypes.URI_FOLDER,\n",
        "                mode=InputOutputModes.RO_MOUNT\n",
        "                )\n",
        "}\n",
        "\n",
        "\n",
        "job = command(\n",
        "    code=\"..\",  # local path where the code is stored\n",
        "    command=\"python scripts/virtual/Train.py ${{inputs.input_parquet}}\",\n",
        "    inputs=inputs,\n",
        "    environment=\"wind_env:3\",\n",
        "    compute=\"cpu-32G\",\n",
        ")\n",
        "\n",
        "# submit the command\n",
        "returned_job = ml_client.create_or_update(job)\n",
        "# get a URL for the status of the job\n",
        "returned_job.studio_url"
      ]
    }
  ],
  "metadata": {
    "kernel_info": {
      "name": "python38-azureml-pt-tf"
    },
    "kernelspec": {
      "display_name": "azureml_py38_PT_TF",
      "language": "python",
      "name": "python3"
    },
    "language_info": {
      "codemirror_mode": {
        "name": "ipython",
        "version": 3
      },
      "file_extension": ".py",
      "mimetype": "text/x-python",
      "name": "python",
      "nbconvert_exporter": "python",
      "pygments_lexer": "ipython3",
      "version": "3.8.5"
    },
    "microsoft": {
      "host": {
        "AzureML": {
          "notebookHasBeenCompleted": true
        }
      },
      "ms_spell_check": {
        "ms_spell_check_language": "en"
      }
    },
    "nteract": {
      "version": "nteract-front-end@1.0.0"
    }
  },
  "nbformat": 4,
  "nbformat_minor": 2
}
