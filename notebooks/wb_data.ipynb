{
  "cells": [
    {
      "cell_type": "code",
      "execution_count": 2,
      "metadata": {
        "gather": {
          "logged": 1702038479077
        }
      },
      "outputs": [],
      "source": [
        "from azure.ai.ml import MLClient\n",
        "from azure.identity import DefaultAzureCredential\n",
        "\n",
        "# authenticate\n",
        "credential = DefaultAzureCredential()\n",
        "\n",
        "# Get a handle to the workspace\n",
        "ml_client = MLClient(\n",
        "    credential=credential,\n",
        "    subscription_id=\"8a889cf2-7b3d-4003-824e-b503f56604b0\",\n",
        "    resource_group_name=\"rg-jef-ml\",\n",
        "    workspace_name=\"ml-gpu\",\n",
        ")"
      ]
    },
    {
      "cell_type": "code",
      "execution_count": 3,
      "metadata": {
        "gather": {
          "logged": 1702038482589
        },
        "jupyter": {
          "outputs_hidden": false,
          "source_hidden": false
        },
        "nteract": {
          "transient": {
            "deleting": false
          }
        }
      },
      "outputs": [
        {
          "name": "stdout",
          "output_type": "stream",
          "text": [
            "Data asset already exists. Name: azureml://subscriptions/8a889cf2-7b3d-4003-824e-b503f56604b0/resourcegroups/rg-jef-ml/workspaces/ml-gpu/datastores/workspaceblobstore/paths/UI/2023-11-29_114659_UTC/wind_bench_1000_1028.parquet/, version: 1\n"
          ]
        }
      ],
      "source": [
        "from azure.ai.ml.entities import Data\n",
        "from azure.ai.ml.constants import AssetTypes\n",
        "import os\n",
        "\n",
        "# update the 'my_path' variable to match the location of where you downloaded the data on your\n",
        "# local filesystem\n",
        "\n",
        "## create data asset if it doesn't already exist:\n",
        "data_asset = ml_client.data.get(name=\"wind_bench_1000-1028\", version=1)\n",
        "print(\n",
        "    f\"Data asset already exists. Name: {data_asset.path}, version: {data_asset.version}\"\n",
        ")\n"
      ]
    },
    {
      "cell_type": "code",
      "execution_count": 4,
      "metadata": {
        "gather": {
          "logged": 1702038680991
        },
        "jupyter": {
          "outputs_hidden": false,
          "source_hidden": false
        },
        "nteract": {
          "transient": {
            "deleting": false
          }
        }
      },
      "outputs": [],
      "source": [
        "x_columns = [\n",
        "        \"Tower top fore-aft acceleration ay [m/s2]\",\n",
        "        \"Tower top side-side acceleration ax [m/s2]\",\n",
        "        \"Tower mid fore-aft acceleration ay [m/s2]\",\n",
        "        \"Tower mid side-side acceleration ax [m/s2]\",\n",
        "        \"Tower top rotation x [deg]\",\n",
        "        \"Tower top rotation y [deg]\",\n",
        "        \"Tower mid rotation x [deg]\",\n",
        "        \"Tower mid rotation y [deg]\"\n",
        "]\n",
        "    \n",
        "y_columns = [\n",
        "    \"Mudline moment Mx[kNm]\",\n",
        "    \"Mudline moment My[kNm]\",\n",
        "    \"Mudline moment Mz[kNm]\",\n",
        "    \"Waterline moment Mx[kNm]\",\n",
        "    \"Waterline moment My[kNm]\",\n",
        "    \"Waterline moment Mz[kNm]\"\n",
        "]\n",
        "\n",
        "wind_columns = [\n",
        "    \"Free wind speed Vx pos    0.00,   0.00,-150.00\",\n",
        "    \"Free wind speed Vy pos    0.00,   0.00,-150.00\",\n",
        "    \"Free wind speed Vz pos    0.00,   0.00,-150.00\"\n",
        "]\n",
        "\n"
      ]
    },
    {
      "cell_type": "code",
      "execution_count": 21,
      "metadata": {
        "gather": {
          "logged": 1702038687534
        },
        "jupyter": {
          "outputs_hidden": false,
          "source_hidden": false
        },
        "nteract": {
          "transient": {
            "deleting": false
          }
        }
      },
      "outputs": [],
      "source": [
        "import pandas as pd\n",
        "\n",
        "df = pd.read_parquet(data_asset.path, filters=[('id', \"=\", \"Exp0.0\")], columns=x_columns)\n",
        "# df = pd.read_parquet(data_asset.path, columns=wind_columns)\n"
      ]
    },
    {
      "cell_type": "code",
      "execution_count": 22,
      "metadata": {},
      "outputs": [
        {
          "data": {
            "text/html": [
              "<div>\n",
              "<style scoped>\n",
              "    .dataframe tbody tr th:only-of-type {\n",
              "        vertical-align: middle;\n",
              "    }\n",
              "\n",
              "    .dataframe tbody tr th {\n",
              "        vertical-align: top;\n",
              "    }\n",
              "\n",
              "    .dataframe thead th {\n",
              "        text-align: right;\n",
              "    }\n",
              "</style>\n",
              "<table border=\"1\" class=\"dataframe\">\n",
              "  <thead>\n",
              "    <tr style=\"text-align: right;\">\n",
              "      <th></th>\n",
              "      <th>Tower top fore-aft acceleration ay [m/s2]</th>\n",
              "      <th>Tower top side-side acceleration ax [m/s2]</th>\n",
              "      <th>Tower mid fore-aft acceleration ay [m/s2]</th>\n",
              "      <th>Tower mid side-side acceleration ax [m/s2]</th>\n",
              "      <th>Tower top rotation x [deg]</th>\n",
              "      <th>Tower top rotation y [deg]</th>\n",
              "      <th>Tower mid rotation x [deg]</th>\n",
              "      <th>Tower mid rotation y [deg]</th>\n",
              "    </tr>\n",
              "    <tr>\n",
              "      <th>Time</th>\n",
              "      <th></th>\n",
              "      <th></th>\n",
              "      <th></th>\n",
              "      <th></th>\n",
              "      <th></th>\n",
              "      <th></th>\n",
              "      <th></th>\n",
              "      <th></th>\n",
              "    </tr>\n",
              "  </thead>\n",
              "  <tbody>\n",
              "    <tr>\n",
              "      <th>0 days 00:00:00.010000</th>\n",
              "      <td>-0.089793</td>\n",
              "      <td>0.292771</td>\n",
              "      <td>-0.451854</td>\n",
              "      <td>-0.271650</td>\n",
              "      <td>0.46575</td>\n",
              "      <td>-0.221151</td>\n",
              "      <td>0.421875</td>\n",
              "      <td>-0.070203</td>\n",
              "    </tr>\n",
              "    <tr>\n",
              "      <th>0 days 00:00:00.060000</th>\n",
              "      <td>-0.029697</td>\n",
              "      <td>0.171801</td>\n",
              "      <td>-0.566831</td>\n",
              "      <td>-0.179218</td>\n",
              "      <td>0.46125</td>\n",
              "      <td>-0.217698</td>\n",
              "      <td>0.421875</td>\n",
              "      <td>-0.069329</td>\n",
              "    </tr>\n",
              "    <tr>\n",
              "      <th>0 days 00:00:00.110000</th>\n",
              "      <td>0.013529</td>\n",
              "      <td>0.040707</td>\n",
              "      <td>-0.563472</td>\n",
              "      <td>-0.054931</td>\n",
              "      <td>0.46125</td>\n",
              "      <td>-0.213114</td>\n",
              "      <td>0.421875</td>\n",
              "      <td>-0.068388</td>\n",
              "    </tr>\n",
              "  </tbody>\n",
              "</table>\n",
              "</div>"
            ],
            "text/plain": [
              "                        Tower top fore-aft acceleration ay [m/s2]  \\\n",
              "Time                                                                \n",
              "0 days 00:00:00.010000                                  -0.089793   \n",
              "0 days 00:00:00.060000                                  -0.029697   \n",
              "0 days 00:00:00.110000                                   0.013529   \n",
              "\n",
              "                        Tower top side-side acceleration ax [m/s2]  \\\n",
              "Time                                                                 \n",
              "0 days 00:00:00.010000                                    0.292771   \n",
              "0 days 00:00:00.060000                                    0.171801   \n",
              "0 days 00:00:00.110000                                    0.040707   \n",
              "\n",
              "                        Tower mid fore-aft acceleration ay [m/s2]  \\\n",
              "Time                                                                \n",
              "0 days 00:00:00.010000                                  -0.451854   \n",
              "0 days 00:00:00.060000                                  -0.566831   \n",
              "0 days 00:00:00.110000                                  -0.563472   \n",
              "\n",
              "                        Tower mid side-side acceleration ax [m/s2]  \\\n",
              "Time                                                                 \n",
              "0 days 00:00:00.010000                                   -0.271650   \n",
              "0 days 00:00:00.060000                                   -0.179218   \n",
              "0 days 00:00:00.110000                                   -0.054931   \n",
              "\n",
              "                        Tower top rotation x [deg]  \\\n",
              "Time                                                 \n",
              "0 days 00:00:00.010000                     0.46575   \n",
              "0 days 00:00:00.060000                     0.46125   \n",
              "0 days 00:00:00.110000                     0.46125   \n",
              "\n",
              "                        Tower top rotation y [deg]  \\\n",
              "Time                                                 \n",
              "0 days 00:00:00.010000                   -0.221151   \n",
              "0 days 00:00:00.060000                   -0.217698   \n",
              "0 days 00:00:00.110000                   -0.213114   \n",
              "\n",
              "                        Tower mid rotation x [deg]  Tower mid rotation y [deg]  \n",
              "Time                                                                            \n",
              "0 days 00:00:00.010000                    0.421875                   -0.070203  \n",
              "0 days 00:00:00.060000                    0.421875                   -0.069329  \n",
              "0 days 00:00:00.110000                    0.421875                   -0.068388  "
            ]
          },
          "execution_count": 22,
          "metadata": {},
          "output_type": "execute_result"
        }
      ],
      "source": [
        "df.head(3)"
      ]
    },
    {
      "cell_type": "code",
      "execution_count": 23,
      "metadata": {
        "gather": {
          "logged": 1702038584841
        }
      },
      "outputs": [],
      "source": [
        "\n",
        "def export_columns(df):\n",
        "    with open(\"columns.txt\", 'w') as f:\n",
        "        for c in df.columns:\n",
        "            f.write(f\"\\\"{c}\\\",\\n\")\n",
        "\n",
        "def export_head_html(df):\n",
        "    with open(\"head.html\", 'w') as f:\n",
        "         f.write(df.head(3).to_html())\n",
        "\n",
        "export_head_html(df)"
      ]
    },
    {
      "cell_type": "code",
      "execution_count": 24,
      "metadata": {},
      "outputs": [],
      "source": [
        "def export_statistics(df):\n",
        "     with open(\"statistics.html\", 'w') as f:\n",
        "         f.write(df.describe().to_html())\n",
        "\n",
        "export_statistics(df)"
      ]
    },
    {
      "cell_type": "code",
      "execution_count": 27,
      "metadata": {
        "gather": {
          "logged": 1702032594994
        },
        "jupyter": {
          "outputs_hidden": false,
          "source_hidden": false
        },
        "nteract": {
          "transient": {
            "deleting": false
          }
        }
      },
      "outputs": [
        {
          "name": "stdout",
          "output_type": "stream",
          "text": [
            "Vx 0.0 -150.0\n",
            "Vx -78.0 -150.0\n",
            "Vx 78.0 -150.0\n",
            "Vx 0.0 -72.0\n",
            "Vx 0.0 -228.0\n",
            "Vx 55.0 -205.0\n",
            "Vx 55.0 -95.0\n",
            "Vx -55.0 -205.0\n",
            "Vx -55.0 -95.0\n"
          ]
        },
        {
          "data": {
            "text/plain": [
              "<matplotlib.collections.PathCollection at 0x7fdf2ea46820>"
            ]
          },
          "execution_count": 27,
          "metadata": {},
          "output_type": "execute_result"
        },
        {
          "data": {
            "image/png": "[encoded data removed]",
            "text/plain": [
              "<Figure size 640x480 with 1 Axes>"
            ]
          },
          "metadata": {},
          "output_type": "display_data"
        }
      ],
      "source": [
        "import re\n",
        "import matplotlib.pyplot as plt\n",
        "\n",
        "X = []\n",
        "Z = []\n",
        "for c in df.columns:\n",
        "    m = re.match(\"Free wind speed (V[x|y|z]) pos\\\\s+([-+]?\\\\d+.\\\\d+),\\\\s*([-+]?\\\\d+.\\d+),\\\\s*([-+]?\\\\d+.\\\\d+)\", c)\n",
        "    if  m and m.group(1) == 'Vx':\n",
        "        x = float(m.group(2))\n",
        "        y = float(m.group(4))\n",
        "        print(m.group(1), x, y)\n",
        "        X.append(x)\n",
        "        Z.append(y)\n",
        "\n",
        "plt.scatter(X, Z)"
      ]
    },
    {
      "cell_type": "code",
      "execution_count": 12,
      "metadata": {
        "gather": {
          "logged": 1702032254000
        },
        "jupyter": {
          "outputs_hidden": false,
          "source_hidden": false
        },
        "nteract": {
          "transient": {
            "deleting": false
          }
        }
      },
      "outputs": [
        {
          "name": "stdout",
          "output_type": "stream",
          "text": [
            "Tower top fore-aft acceleration ay [m/s2] -0.35009199663999996 0.39217391104\n",
            "Tower top side-side acceleration ax [m/s2] -0.5286899681999999 0.41830005749999993\n",
            "Tower mid fore-aft acceleration ay [m/s2] -0.8616105430000001 0.8895380060000001\n",
            "Tower mid side-side acceleration ax [m/s2] -0.54385269216 0.56713383648\n",
            "Tower top rotation x [deg] -0.19687499999997726 0.5287500000000023\n",
            "Tower top rotation y [deg] -0.224914738512 -0.048013503384\n",
            "Tower mid rotation x [deg] 0.045000000000015916 0.4331250000000182\n",
            "Tower mid rotation y [deg] -0.075000364832 -0.00550011978\n"
          ]
        }
      ],
      "source": [
        "x_stats = dict(df[x_columns].describe())\n",
        "for i in range(len(x_columns)):\n",
        "    print(x_columns[i], x_stats[x_columns[i]]['min'], x_stats[x_columns[i]]['max'])"
      ]
    },
    {
      "cell_type": "code",
      "execution_count": 11,
      "metadata": {
        "gather": {
          "logged": 1697809667420
        },
        "jupyter": {
          "outputs_hidden": false,
          "source_hidden": false
        },
        "nteract": {
          "transient": {
            "deleting": false
          }
        }
      },
      "outputs": [
        {
          "data": {
            "text/html": [
              "<div>\n",
              "<style scoped>\n",
              "    .dataframe tbody tr th:only-of-type {\n",
              "        vertical-align: middle;\n",
              "    }\n",
              "\n",
              "    .dataframe tbody tr th {\n",
              "        vertical-align: top;\n",
              "    }\n",
              "\n",
              "    .dataframe thead th {\n",
              "        text-align: right;\n",
              "    }\n",
              "</style>\n",
              "<table border=\"1\" class=\"dataframe\">\n",
              "  <thead>\n",
              "    <tr style=\"text-align: right;\">\n",
              "      <th></th>\n",
              "      <th>Mudline moment Mx[kNm]</th>\n",
              "      <th>Mudline moment My[kNm]</th>\n",
              "      <th>Mudline moment Mz[kNm]</th>\n",
              "      <th>Waterline moment Mx[kNm]</th>\n",
              "      <th>Waterline moment My[kNm]</th>\n",
              "      <th>Waterline moment Mz[kNm]</th>\n",
              "    </tr>\n",
              "  </thead>\n",
              "  <tbody>\n",
              "    <tr>\n",
              "      <th>count</th>\n",
              "      <td>102400.000000</td>\n",
              "      <td>102400.000000</td>\n",
              "      <td>102400.000000</td>\n",
              "      <td>102400.000000</td>\n",
              "      <td>102400.000000</td>\n",
              "      <td>102400.000000</td>\n",
              "    </tr>\n",
              "    <tr>\n",
              "      <th>mean</th>\n",
              "      <td>66303.954038</td>\n",
              "      <td>7338.135348</td>\n",
              "      <td>-626.049489</td>\n",
              "      <td>146700.024153</td>\n",
              "      <td>18914.916460</td>\n",
              "      <td>-626.046926</td>\n",
              "    </tr>\n",
              "    <tr>\n",
              "      <th>std</th>\n",
              "      <td>26975.558005</td>\n",
              "      <td>4674.049556</td>\n",
              "      <td>6683.212692</td>\n",
              "      <td>61883.337431</td>\n",
              "      <td>10821.991611</td>\n",
              "      <td>6676.654143</td>\n",
              "    </tr>\n",
              "    <tr>\n",
              "      <th>min</th>\n",
              "      <td>-8743.046824</td>\n",
              "      <td>-8491.565472</td>\n",
              "      <td>-38105.685644</td>\n",
              "      <td>-16593.317216</td>\n",
              "      <td>-8880.563304</td>\n",
              "      <td>-37991.438162</td>\n",
              "    </tr>\n",
              "    <tr>\n",
              "      <th>25%</th>\n",
              "      <td>48927.330588</td>\n",
              "      <td>4108.952077</td>\n",
              "      <td>-4608.203689</td>\n",
              "      <td>108681.237703</td>\n",
              "      <td>11469.558578</td>\n",
              "      <td>-4602.974044</td>\n",
              "    </tr>\n",
              "    <tr>\n",
              "      <th>50%</th>\n",
              "      <td>67752.833590</td>\n",
              "      <td>6572.670038</td>\n",
              "      <td>-359.870065</td>\n",
              "      <td>149067.356760</td>\n",
              "      <td>17287.678759</td>\n",
              "      <td>-361.536874</td>\n",
              "    </tr>\n",
              "    <tr>\n",
              "      <th>75%</th>\n",
              "      <td>86908.622738</td>\n",
              "      <td>9578.781101</td>\n",
              "      <td>3783.586337</td>\n",
              "      <td>194015.013249</td>\n",
              "      <td>24299.767040</td>\n",
              "      <td>3781.904644</td>\n",
              "    </tr>\n",
              "    <tr>\n",
              "      <th>max</th>\n",
              "      <td>136384.766550</td>\n",
              "      <td>32878.249170</td>\n",
              "      <td>29324.645220</td>\n",
              "      <td>293800.671846</td>\n",
              "      <td>73725.169680</td>\n",
              "      <td>29234.712690</td>\n",
              "    </tr>\n",
              "  </tbody>\n",
              "</table>\n",
              "</div>"
            ],
            "text/plain": [
              "       Mudline moment Mx[kNm]  Mudline moment My[kNm]  Mudline moment Mz[kNm]  \\\n",
              "count           102400.000000           102400.000000           102400.000000   \n",
              "mean             66303.954038             7338.135348             -626.049489   \n",
              "std              26975.558005             4674.049556             6683.212692   \n",
              "min              -8743.046824            -8491.565472           -38105.685644   \n",
              "25%              48927.330588             4108.952077            -4608.203689   \n",
              "50%              67752.833590             6572.670038             -359.870065   \n",
              "75%              86908.622738             9578.781101             3783.586337   \n",
              "max             136384.766550            32878.249170            29324.645220   \n",
              "\n",
              "       Waterline moment Mx[kNm]  Waterline moment My[kNm]  \\\n",
              "count             102400.000000             102400.000000   \n",
              "mean              146700.024153              18914.916460   \n",
              "std                61883.337431              10821.991611   \n",
              "min               -16593.317216              -8880.563304   \n",
              "25%               108681.237703              11469.558578   \n",
              "50%               149067.356760              17287.678759   \n",
              "75%               194015.013249              24299.767040   \n",
              "max               293800.671846              73725.169680   \n",
              "\n",
              "       Waterline moment Mz[kNm]  \n",
              "count             102400.000000  \n",
              "mean                -626.046926  \n",
              "std                 6676.654143  \n",
              "min               -37991.438162  \n",
              "25%                -4602.974044  \n",
              "50%                 -361.536874  \n",
              "75%                 3781.904644  \n",
              "max                29234.712690  "
            ]
          },
          "execution_count": 11,
          "metadata": {},
          "output_type": "execute_result"
        }
      ],
      "source": [
        "df[y_columns].describe()"
      ]
    },
    {
      "cell_type": "code",
      "execution_count": 6,
      "metadata": {
        "gather": {
          "logged": 1702032033732
        },
        "jupyter": {
          "outputs_hidden": false,
          "source_hidden": false
        },
        "nteract": {
          "transient": {
            "deleting": false
          }
        }
      },
      "outputs": [
        {
          "name": "stdout",
          "output_type": "stream",
          "text": [
            "100\n"
          ]
        }
      ],
      "source": [
        "series = {k: v for k, v in df.groupby('id')}\n",
        "\n",
        "print(len(series))"
      ]
    },
    {
      "cell_type": "code",
      "execution_count": 7,
      "metadata": {
        "gather": {
          "logged": 1702032047781
        },
        "jupyter": {
          "outputs_hidden": false,
          "source_hidden": false
        },
        "nteract": {
          "transient": {
            "deleting": false
          }
        }
      },
      "outputs": [
        {
          "data": {
            "text/plain": [
              "<Axes: xlabel='Time'>"
            ]
          },
          "execution_count": 7,
          "metadata": {},
          "output_type": "execute_result"
        },
        {
          "data": {
            "image/png": "[encoded data removed]",
            "text/plain": [
              "<Figure size 640x480 with 1 Axes>"
            ]
          },
          "metadata": {},
          "output_type": "display_data"
        }
      ],
      "source": [
        "import matplotlib.pyplot as plt\n",
        "\n",
        "serie = series['Exp1.1']\n",
        "serie[['Electrical power [W]']].plot()\n"
      ]
    },
    {
      "cell_type": "code",
      "execution_count": 10,
      "metadata": {
        "gather": {
          "logged": 1697704580160
        },
        "jupyter": {
          "outputs_hidden": false,
          "source_hidden": false
        },
        "nteract": {
          "transient": {
            "deleting": false
          }
        }
      },
      "outputs": [
        {
          "name": "stdout",
          "output_type": "stream",
          "text": [
            "azureml://subscriptions/239dc480-600f-413c-ae8c-8a5bbc17ed87/resourcegroups/rg-ml-jef/workspaces/mltry/datastores/workspaceblobstore/paths/LocalUpload/e371ee7f73e78305a4dda0ecbf7ff7c9/wind_bench.parquet/\n",
            "LocalUpload/e371ee7f73e78305a4dda0ecbf7ff7c9/wind_bench.parquet/id=Exp0.0/2908f0244c774e8786ae9acf46715df3-0.parquet\n"
          ]
        },
        {
          "data": {
            "text/html": [
              "<div>\n",
              "<style scoped>\n",
              "    .dataframe tbody tr th:only-of-type {\n",
              "        vertical-align: middle;\n",
              "    }\n",
              "\n",
              "    .dataframe tbody tr th {\n",
              "        vertical-align: top;\n",
              "    }\n",
              "\n",
              "    .dataframe thead th {\n",
              "        text-align: right;\n",
              "    }\n",
              "</style>\n",
              "<table border=\"1\" class=\"dataframe\">\n",
              "  <thead>\n",
              "    <tr style=\"text-align: right;\">\n",
              "      <th></th>\n",
              "      <th>Rotor azimuth [deg]</th>\n",
              "      <th>Rotor rotational speed [rpm]</th>\n",
              "      <th>Blade 1 pitch angle [deg]</th>\n",
              "      <th>Blade 2 pitch angle [deg]</th>\n",
              "      <th>Blade 3 pitch angle [deg]</th>\n",
              "      <th>Generator LSS torque [Nm]</th>\n",
              "      <th>Electrical power [W]</th>\n",
              "      <th>Bedframe moment [Nm]</th>\n",
              "      <th>Generator HSS torque [Nm]</th>\n",
              "      <th>Mudline moment Mx[kNm]</th>\n",
              "      <th>...</th>\n",
              "      <th>Free wind speed Vx pos   55.00,   0.00, -95.00</th>\n",
              "      <th>Free wind speed Vy pos   55.00,   0.00, -95.00</th>\n",
              "      <th>Free wind speed Vz pos   55.00,   0.00, -95.00</th>\n",
              "      <th>Free wind speed Vx pos  -55.00,   0.00,-205.00</th>\n",
              "      <th>Free wind speed Vy pos  -55.00,   0.00,-205.00</th>\n",
              "      <th>Free wind speed Vz pos  -55.00,   0.00,-205.00</th>\n",
              "      <th>Free wind speed Vx pos  -55.00,   0.00, -95.00</th>\n",
              "      <th>Free wind speed Vy pos  -55.00,   0.00, -95.00</th>\n",
              "      <th>Free wind speed Vz pos  -55.00,   0.00, -95.00</th>\n",
              "      <th>Water surface elevation [m]</th>\n",
              "    </tr>\n",
              "    <tr>\n",
              "      <th>Time</th>\n",
              "      <th></th>\n",
              "      <th></th>\n",
              "      <th></th>\n",
              "      <th></th>\n",
              "      <th></th>\n",
              "      <th></th>\n",
              "      <th></th>\n",
              "      <th></th>\n",
              "      <th></th>\n",
              "      <th></th>\n",
              "      <th></th>\n",
              "      <th></th>\n",
              "      <th></th>\n",
              "      <th></th>\n",
              "      <th></th>\n",
              "      <th></th>\n",
              "      <th></th>\n",
              "      <th></th>\n",
              "      <th></th>\n",
              "      <th></th>\n",
              "      <th></th>\n",
              "    </tr>\n",
              "  </thead>\n",
              "  <tbody>\n",
              "    <tr>\n",
              "      <th>0 days 00:00:00.010000</th>\n",
              "      <td>66.556067</td>\n",
              "      <td>7.672028</td>\n",
              "      <td>0.520026</td>\n",
              "      <td>0.519916</td>\n",
              "      <td>0.519917</td>\n",
              "      <td>-1.948289e+07</td>\n",
              "      <td>1.510994e+07</td>\n",
              "      <td>0.0</td>\n",
              "      <td>-1.948289e+07</td>\n",
              "      <td>122300.083752</td>\n",
              "      <td>...</td>\n",
              "      <td>-3.559559</td>\n",
              "      <td>8.530156</td>\n",
              "      <td>-0.126334</td>\n",
              "      <td>-2.942660</td>\n",
              "      <td>8.313082</td>\n",
              "      <td>-0.242131</td>\n",
              "      <td>-3.114716</td>\n",
              "      <td>11.832829</td>\n",
              "      <td>0.599726</td>\n",
              "      <td>-0.058321</td>\n",
              "    </tr>\n",
              "    <tr>\n",
              "      <th>0 days 00:00:00.060000</th>\n",
              "      <td>68.860026</td>\n",
              "      <td>7.677732</td>\n",
              "      <td>0.528227</td>\n",
              "      <td>0.528132</td>\n",
              "      <td>0.528133</td>\n",
              "      <td>-1.958159e+07</td>\n",
              "      <td>1.519899e+07</td>\n",
              "      <td>0.0</td>\n",
              "      <td>-1.958159e+07</td>\n",
              "      <td>123523.029784</td>\n",
              "      <td>...</td>\n",
              "      <td>-3.587884</td>\n",
              "      <td>8.510981</td>\n",
              "      <td>-0.104801</td>\n",
              "      <td>-2.976881</td>\n",
              "      <td>8.327318</td>\n",
              "      <td>-0.185054</td>\n",
              "      <td>-3.119303</td>\n",
              "      <td>11.840616</td>\n",
              "      <td>0.539415</td>\n",
              "      <td>-0.098596</td>\n",
              "    </tr>\n",
              "    <tr>\n",
              "      <th>0 days 00:00:00.110000</th>\n",
              "      <td>71.166235</td>\n",
              "      <td>7.679375</td>\n",
              "      <td>0.536139</td>\n",
              "      <td>0.536058</td>\n",
              "      <td>0.536045</td>\n",
              "      <td>-1.961654e+07</td>\n",
              "      <td>1.523091e+07</td>\n",
              "      <td>0.0</td>\n",
              "      <td>-1.961654e+07</td>\n",
              "      <td>123776.701048</td>\n",
              "      <td>...</td>\n",
              "      <td>-3.625911</td>\n",
              "      <td>8.496323</td>\n",
              "      <td>-0.142878</td>\n",
              "      <td>-2.987754</td>\n",
              "      <td>8.348031</td>\n",
              "      <td>-0.153502</td>\n",
              "      <td>-3.112289</td>\n",
              "      <td>11.845533</td>\n",
              "      <td>0.438913</td>\n",
              "      <td>-0.142723</td>\n",
              "    </tr>\n",
              "    <tr>\n",
              "      <th>0 days 00:00:00.160000</th>\n",
              "      <td>73.470194</td>\n",
              "      <td>7.677345</td>\n",
              "      <td>0.543834</td>\n",
              "      <td>0.543752</td>\n",
              "      <td>0.543754</td>\n",
              "      <td>-1.961114e+07</td>\n",
              "      <td>1.522401e+07</td>\n",
              "      <td>0.0</td>\n",
              "      <td>-1.961114e+07</td>\n",
              "      <td>122898.246856</td>\n",
              "      <td>...</td>\n",
              "      <td>-3.632668</td>\n",
              "      <td>8.491040</td>\n",
              "      <td>-0.183655</td>\n",
              "      <td>-3.006875</td>\n",
              "      <td>8.365335</td>\n",
              "      <td>-0.150289</td>\n",
              "      <td>-3.137754</td>\n",
              "      <td>11.833485</td>\n",
              "      <td>0.328324</td>\n",
              "      <td>-0.188766</td>\n",
              "    </tr>\n",
              "    <tr>\n",
              "      <th>0 days 00:00:00.210000</th>\n",
              "      <td>75.767403</td>\n",
              "      <td>7.673720</td>\n",
              "      <td>0.551354</td>\n",
              "      <td>0.551258</td>\n",
              "      <td>0.551260</td>\n",
              "      <td>-1.958625e+07</td>\n",
              "      <td>1.519774e+07</td>\n",
              "      <td>0.0</td>\n",
              "      <td>-1.958625e+07</td>\n",
              "      <td>121087.315888</td>\n",
              "      <td>...</td>\n",
              "      <td>-3.616679</td>\n",
              "      <td>8.491636</td>\n",
              "      <td>-0.221247</td>\n",
              "      <td>-3.031143</td>\n",
              "      <td>8.379997</td>\n",
              "      <td>-0.167236</td>\n",
              "      <td>-3.183398</td>\n",
              "      <td>11.810534</td>\n",
              "      <td>0.216735</td>\n",
              "      <td>-0.237811</td>\n",
              "    </tr>\n",
              "  </tbody>\n",
              "</table>\n",
              "<p>5 rows × 147 columns</p>\n",
              "</div>"
            ],
            "text/plain": [
              "                        Rotor azimuth [deg]  Rotor rotational speed [rpm]  \\\n",
              "Time                                                                        \n",
              "0 days 00:00:00.010000            66.556067                      7.672028   \n",
              "0 days 00:00:00.060000            68.860026                      7.677732   \n",
              "0 days 00:00:00.110000            71.166235                      7.679375   \n",
              "0 days 00:00:00.160000            73.470194                      7.677345   \n",
              "0 days 00:00:00.210000            75.767403                      7.673720   \n",
              "\n",
              "                        Blade 1 pitch angle [deg]  Blade 2 pitch angle [deg]  \\\n",
              "Time                                                                           \n",
              "0 days 00:00:00.010000                   0.520026                   0.519916   \n",
              "0 days 00:00:00.060000                   0.528227                   0.528132   \n",
              "0 days 00:00:00.110000                   0.536139                   0.536058   \n",
              "0 days 00:00:00.160000                   0.543834                   0.543752   \n",
              "0 days 00:00:00.210000                   0.551354                   0.551258   \n",
              "\n",
              "                        Blade 3 pitch angle [deg]  Generator LSS torque [Nm]  \\\n",
              "Time                                                                           \n",
              "0 days 00:00:00.010000                   0.519917              -1.948289e+07   \n",
              "0 days 00:00:00.060000                   0.528133              -1.958159e+07   \n",
              "0 days 00:00:00.110000                   0.536045              -1.961654e+07   \n",
              "0 days 00:00:00.160000                   0.543754              -1.961114e+07   \n",
              "0 days 00:00:00.210000                   0.551260              -1.958625e+07   \n",
              "\n",
              "                        Electrical power [W]  Bedframe moment [Nm]  \\\n",
              "Time                                                                 \n",
              "0 days 00:00:00.010000          1.510994e+07                   0.0   \n",
              "0 days 00:00:00.060000          1.519899e+07                   0.0   \n",
              "0 days 00:00:00.110000          1.523091e+07                   0.0   \n",
              "0 days 00:00:00.160000          1.522401e+07                   0.0   \n",
              "0 days 00:00:00.210000          1.519774e+07                   0.0   \n",
              "\n",
              "                        Generator HSS torque [Nm]  Mudline moment Mx[kNm]  \\\n",
              "Time                                                                        \n",
              "0 days 00:00:00.010000              -1.948289e+07           122300.083752   \n",
              "0 days 00:00:00.060000              -1.958159e+07           123523.029784   \n",
              "0 days 00:00:00.110000              -1.961654e+07           123776.701048   \n",
              "0 days 00:00:00.160000              -1.961114e+07           122898.246856   \n",
              "0 days 00:00:00.210000              -1.958625e+07           121087.315888   \n",
              "\n",
              "                        ...  Free wind speed Vx pos   55.00,   0.00, -95.00  \\\n",
              "Time                    ...                                                   \n",
              "0 days 00:00:00.010000  ...                                       -3.559559   \n",
              "0 days 00:00:00.060000  ...                                       -3.587884   \n",
              "0 days 00:00:00.110000  ...                                       -3.625911   \n",
              "0 days 00:00:00.160000  ...                                       -3.632668   \n",
              "0 days 00:00:00.210000  ...                                       -3.616679   \n",
              "\n",
              "                        Free wind speed Vy pos   55.00,   0.00, -95.00  \\\n",
              "Time                                                                     \n",
              "0 days 00:00:00.010000                                        8.530156   \n",
              "0 days 00:00:00.060000                                        8.510981   \n",
              "0 days 00:00:00.110000                                        8.496323   \n",
              "0 days 00:00:00.160000                                        8.491040   \n",
              "0 days 00:00:00.210000                                        8.491636   \n",
              "\n",
              "                        Free wind speed Vz pos   55.00,   0.00, -95.00  \\\n",
              "Time                                                                     \n",
              "0 days 00:00:00.010000                                       -0.126334   \n",
              "0 days 00:00:00.060000                                       -0.104801   \n",
              "0 days 00:00:00.110000                                       -0.142878   \n",
              "0 days 00:00:00.160000                                       -0.183655   \n",
              "0 days 00:00:00.210000                                       -0.221247   \n",
              "\n",
              "                        Free wind speed Vx pos  -55.00,   0.00,-205.00  \\\n",
              "Time                                                                     \n",
              "0 days 00:00:00.010000                                       -2.942660   \n",
              "0 days 00:00:00.060000                                       -2.976881   \n",
              "0 days 00:00:00.110000                                       -2.987754   \n",
              "0 days 00:00:00.160000                                       -3.006875   \n",
              "0 days 00:00:00.210000                                       -3.031143   \n",
              "\n",
              "                        Free wind speed Vy pos  -55.00,   0.00,-205.00  \\\n",
              "Time                                                                     \n",
              "0 days 00:00:00.010000                                        8.313082   \n",
              "0 days 00:00:00.060000                                        8.327318   \n",
              "0 days 00:00:00.110000                                        8.348031   \n",
              "0 days 00:00:00.160000                                        8.365335   \n",
              "0 days 00:00:00.210000                                        8.379997   \n",
              "\n",
              "                        Free wind speed Vz pos  -55.00,   0.00,-205.00  \\\n",
              "Time                                                                     \n",
              "0 days 00:00:00.010000                                       -0.242131   \n",
              "0 days 00:00:00.060000                                       -0.185054   \n",
              "0 days 00:00:00.110000                                       -0.153502   \n",
              "0 days 00:00:00.160000                                       -0.150289   \n",
              "0 days 00:00:00.210000                                       -0.167236   \n",
              "\n",
              "                        Free wind speed Vx pos  -55.00,   0.00, -95.00  \\\n",
              "Time                                                                     \n",
              "0 days 00:00:00.010000                                       -3.114716   \n",
              "0 days 00:00:00.060000                                       -3.119303   \n",
              "0 days 00:00:00.110000                                       -3.112289   \n",
              "0 days 00:00:00.160000                                       -3.137754   \n",
              "0 days 00:00:00.210000                                       -3.183398   \n",
              "\n",
              "                        Free wind speed Vy pos  -55.00,   0.00, -95.00  \\\n",
              "Time                                                                     \n",
              "0 days 00:00:00.010000                                       11.832829   \n",
              "0 days 00:00:00.060000                                       11.840616   \n",
              "0 days 00:00:00.110000                                       11.845533   \n",
              "0 days 00:00:00.160000                                       11.833485   \n",
              "0 days 00:00:00.210000                                       11.810534   \n",
              "\n",
              "                        Free wind speed Vz pos  -55.00,   0.00, -95.00  \\\n",
              "Time                                                                     \n",
              "0 days 00:00:00.010000                                        0.599726   \n",
              "0 days 00:00:00.060000                                        0.539415   \n",
              "0 days 00:00:00.110000                                        0.438913   \n",
              "0 days 00:00:00.160000                                        0.328324   \n",
              "0 days 00:00:00.210000                                        0.216735   \n",
              "\n",
              "                        Water surface elevation [m]  \n",
              "Time                                                 \n",
              "0 days 00:00:00.010000                    -0.058321  \n",
              "0 days 00:00:00.060000                    -0.098596  \n",
              "0 days 00:00:00.110000                    -0.142723  \n",
              "0 days 00:00:00.160000                    -0.188766  \n",
              "0 days 00:00:00.210000                    -0.237811  \n",
              "\n",
              "[5 rows x 147 columns]"
            ]
          },
          "execution_count": 10,
          "metadata": {},
          "output_type": "execute_result"
        }
      ],
      "source": [
        "from azureml.fsspec import AzureMachineLearningFileSystem\n",
        "import pyarrow.parquet as pq\n",
        "\n",
        "import pandas as pd\n",
        "\n",
        "print(data_asset.path)\n",
        "\n",
        "# instantiate file system using following URI\n",
        "fs = AzureMachineLearningFileSystem(data_asset.path)\n",
        "\n",
        "dirs = fs.glob('**/*.parquet') # list folders/files in datastore 'datastorename'\n",
        "\n",
        "# output example:\n",
        "# folder1\n",
        "# folder2\n",
        "# file3.csv\n",
        "print(dirs[0])\n",
        "\n",
        "\n",
        "#table = pq.read_pandas(dirs[0], filesystem=fs)\n",
        "#print(table)\n",
        "with fs.open(dirs[0]) as f:\n",
        "    df = pd.read_parquet(f)\n",
        "df.head()\n"
      ]
    }
  ],
  "metadata": {
    "kernel_info": {
      "name": "python38-azureml-pt-tf"
    },
    "kernelspec": {
      "display_name": "venv",
      "language": "python",
      "name": "python3"
    },
    "language_info": {
      "codemirror_mode": {
        "name": "ipython",
        "version": 3
      },
      "file_extension": ".py",
      "mimetype": "text/x-python",
      "name": "python",
      "nbconvert_exporter": "python",
      "pygments_lexer": "ipython3",
      "version": "3.10.12"
    },
    "microsoft": {
      "host": {
        "AzureML": {
          "notebookHasBeenCompleted": true
        }
      },
      "ms_spell_check": {
        "ms_spell_check_language": "en"
      }
    },
    "nteract": {
      "version": "nteract-front-end@1.0.0"
    }
  },
  "nbformat": 4,
  "nbformat_minor": 2
}
