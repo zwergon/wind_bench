{
  "cells": [
    {
      "cell_type": "code",
      "execution_count": 1,
      "metadata": {
        "gather": {
          "logged": 1698409498878
        }
      },
      "outputs": [],
      "source": [
        "from azure.ai.ml import MLClient\n",
        "from azure.identity import DefaultAzureCredential\n",
        "\n",
        "# authenticate\n",
        "credential = DefaultAzureCredential()\n",
        "\n",
        "# Get a handle to the workspace\n",
        "ml_client = MLClient(\n",
        "    credential=credential,\n",
        "    subscription_id=\"239dc480-600f-413c-ae8c-8a5bbc17ed87\",\n",
        "    resource_group_name=\"rg-ml-jef\",\n",
        "    workspace_name=\"mltry\",\n",
        ")"
      ]
    },
    {
      "cell_type": "code",
      "execution_count": null,
      "metadata": {
        "jupyter": {
          "outputs_hidden": false,
          "source_hidden": false
        },
        "nteract": {
          "transient": {
            "deleting": false
          }
        }
      },
      "outputs": [],
      "source": [
        "%pip install -U azureml-fsspec"
      ]
    },
    {
      "cell_type": "code",
      "execution_count": 2,
      "metadata": {
        "gather": {
          "logged": 1698409501760
        },
        "jupyter": {
          "outputs_hidden": false,
          "source_hidden": false
        },
        "nteract": {
          "transient": {
            "deleting": false
          }
        }
      },
      "outputs": [],
      "source": [
        "from azure.ai.ml.entities import Data\n",
        "from azure.ai.ml.constants import AssetTypes\n",
        "import os\n",
        "\n",
        "os.environ['http_proxy'] = 'http://irproxy:8082/'\n",
        "os.environ['https_proxy'] = 'http://irproxy:8082'\n",
        "\n",
        "# update the 'my_path' variable to match the location of where you downloaded the data on your\n",
        "# local filesystem\n",
        "\n",
        "my_path = \"./data/wind_bench.parquet\"\n",
        "# set the version number of the data asset\n",
        "v1 = \"initial\"\n",
        "\n",
        "my_data = Data(\n",
        "    name=\"wind-bench\",\n",
        "    version=v1,\n",
        "    description=\"Wind Benchmark parquet file\",\n",
        "    path=my_path,\n",
        "    tags={\"format\": \"parquet\"},\n",
        "    type=AssetTypes.URI_FOLDER,\n",
        ")\n",
        "\n",
        "## create data asset if it doesn't already exist:\n",
        "try:\n",
        "    data_asset = ml_client.data.get(name=\"wind-bench\", version=v1)\n",
        "    print(\n",
        "        f\"Data asset already exists. Name: {my_data.name}, version: {my_data.version}\"\n",
        "    )\n",
        "except:\n",
        "    ml_client.data.create_or_update(my_data)\n",
        "    print(f\"Data asset created. Name: {my_data.name}, version: {my_data.version}\")"
      ]
    },
    {
      "cell_type": "code",
      "execution_count": 3,
      "metadata": {
        "gather": {
          "logged": 1698409504419
        },
        "jupyter": {
          "outputs_hidden": false,
          "source_hidden": false
        },
        "nteract": {
          "transient": {
            "deleting": false
          }
        }
      },
      "outputs": [
        {
          "name": "stdout",
          "output_type": "stream",
          "text": [
            "azureml://subscriptions/239dc480-600f-413c-ae8c-8a5bbc17ed87/resourcegroups/rg-ml-jef/workspaces/mltry/datastores/workspaceblobstore/paths/LocalUpload/e371ee7f73e78305a4dda0ecbf7ff7c9/wind_bench.parquet/\n"
          ]
        }
      ],
      "source": [
        "print(data_asset.path)"
      ]
    },
    {
      "cell_type": "code",
      "execution_count": 4,
      "metadata": {
        "gather": {
          "logged": 1698409519969
        },
        "jupyter": {
          "outputs_hidden": false,
          "source_hidden": false
        },
        "nteract": {
          "transient": {
            "deleting": false
          }
        }
      },
      "outputs": [],
      "source": [
        "import pandas as pd\n",
        "\n",
        "df = pd.read_parquet(data_asset.path)"
      ]
    },
    {
      "cell_type": "code",
      "execution_count": 5,
      "metadata": {
        "gather": {
          "logged": 1698409520182
        },
        "jupyter": {
          "outputs_hidden": false,
          "source_hidden": false
        },
        "nteract": {
          "transient": {
            "deleting": false
          }
        }
      },
      "outputs": [
        {
          "data": {
            "text/plain": [
              "Index(['Rotor azimuth [deg]', 'Rotor rotational speed [rpm]',\n",
              "       'Blade 1 pitch angle [deg]', 'Blade 2 pitch angle [deg]',\n",
              "       'Blade 3 pitch angle [deg]', 'Generator LSS torque [Nm]',\n",
              "       'Electrical power [W]', 'Bedframe moment [Nm]',\n",
              "       'Generator HSS torque [Nm]', 'Mudline moment Mx[kNm]',\n",
              "       ...\n",
              "       'Free wind speed Vy pos   55.00,   0.00, -95.00',\n",
              "       'Free wind speed Vz pos   55.00,   0.00, -95.00',\n",
              "       'Free wind speed Vx pos  -55.00,   0.00,-205.00',\n",
              "       'Free wind speed Vy pos  -55.00,   0.00,-205.00',\n",
              "       'Free wind speed Vz pos  -55.00,   0.00,-205.00',\n",
              "       'Free wind speed Vx pos  -55.00,   0.00, -95.00',\n",
              "       'Free wind speed Vy pos  -55.00,   0.00, -95.00',\n",
              "       'Free wind speed Vz pos  -55.00,   0.00, -95.00',\n",
              "       'Water surface elevation [m]', 'id'],\n",
              "      dtype='object', length=148)"
            ]
          },
          "execution_count": 5,
          "metadata": {},
          "output_type": "execute_result"
        }
      ],
      "source": [
        "df.columns"
      ]
    },
    {
      "cell_type": "code",
      "execution_count": 6,
      "metadata": {
        "gather": {
          "logged": 1698409527479
        },
        "jupyter": {
          "outputs_hidden": false,
          "source_hidden": false
        },
        "nteract": {
          "transient": {
            "deleting": false
          }
        }
      },
      "outputs": [],
      "source": [
        "x_columns = [\n",
        "        \"Tower top fore-aft acceleration ay [m/s2]\",\n",
        "        \"Tower top side-side acceleration ax [m/s2]\",\n",
        "        \"Tower mid fore-aft acceleration ay [m/s2]\",\n",
        "        \"Tower mid side-side acceleration ax [m/s2]\",\n",
        "        \"Tower top rotation x [deg]\",\n",
        "        \"Tower top rotation y [deg]\",\n",
        "        \"Tower mid rotation x [deg]\",\n",
        "        \"Tower mid rotation y [deg]\"\n",
        "]\n",
        "    \n",
        "y_columns = [\n",
        "    \"Mudline moment Mx[kNm]\",\n",
        "    \"Mudline moment My[kNm]\",\n",
        "    \"Mudline moment Mz[kNm]\",\n",
        "    \"Waterline moment Mx[kNm]\",\n",
        "    \"Waterline moment My[kNm]\",\n",
        "    \"Waterline moment Mz[kNm]\"\n",
        "]\n",
        "\n"
      ]
    },
    {
      "cell_type": "code",
      "execution_count": 18,
      "metadata": {
        "gather": {
          "logged": 1697810115314
        },
        "jupyter": {
          "outputs_hidden": false,
          "source_hidden": false
        },
        "nteract": {
          "transient": {
            "deleting": false
          }
        }
      },
      "outputs": [
        {
          "name": "stdout",
          "output_type": "stream",
          "text": [
            "Tower top fore-aft acceleration ay [m/s2] -0.5544912177000001 0.59843036844\n",
            "Tower top side-side acceleration ax [m/s2] -0.9779407769599999 1.0109897433600001\n",
            "Tower mid fore-aft acceleration ay [m/s2] -2.0911102128 1.936147206\n",
            "Tower mid side-side acceleration ax [m/s2] -1.3830194681599999 1.4393396732\n",
            "Tower top rotation x [deg] -0.36000000000001364 0.6187500000000057\n",
            "Tower top rotation y [deg] -0.33041424738 -0.011993925899999999\n",
            "Tower mid rotation x [deg] -0.05624999999997726 0.4724999999999966\n",
            "Tower mid rotation y [deg] -0.132215069246 0.001896579072\n"
          ]
        }
      ],
      "source": [
        "x_stats = dict(df[x_columns].describe())\n",
        "for i in range(len(x_columns)):\n",
        "    print(x_columns[i], x_stats[x_columns[i]]['min'], x_stats[x_columns[i]]['max'])"
      ]
    },
    {
      "cell_type": "code",
      "execution_count": 11,
      "metadata": {
        "gather": {
          "logged": 1697809667420
        },
        "jupyter": {
          "outputs_hidden": false,
          "source_hidden": false
        },
        "nteract": {
          "transient": {
            "deleting": false
          }
        }
      },
      "outputs": [
        {
          "data": {
            "text/html": [
              "<div>\n",
              "<style scoped>\n",
              "    .dataframe tbody tr th:only-of-type {\n",
              "        vertical-align: middle;\n",
              "    }\n",
              "\n",
              "    .dataframe tbody tr th {\n",
              "        vertical-align: top;\n",
              "    }\n",
              "\n",
              "    .dataframe thead th {\n",
              "        text-align: right;\n",
              "    }\n",
              "</style>\n",
              "<table border=\"1\" class=\"dataframe\">\n",
              "  <thead>\n",
              "    <tr style=\"text-align: right;\">\n",
              "      <th></th>\n",
              "      <th>Mudline moment Mx[kNm]</th>\n",
              "      <th>Mudline moment My[kNm]</th>\n",
              "      <th>Mudline moment Mz[kNm]</th>\n",
              "      <th>Waterline moment Mx[kNm]</th>\n",
              "      <th>Waterline moment My[kNm]</th>\n",
              "      <th>Waterline moment Mz[kNm]</th>\n",
              "    </tr>\n",
              "  </thead>\n",
              "  <tbody>\n",
              "    <tr>\n",
              "      <th>count</th>\n",
              "      <td>102400.000000</td>\n",
              "      <td>102400.000000</td>\n",
              "      <td>102400.000000</td>\n",
              "      <td>102400.000000</td>\n",
              "      <td>102400.000000</td>\n",
              "      <td>102400.000000</td>\n",
              "    </tr>\n",
              "    <tr>\n",
              "      <th>mean</th>\n",
              "      <td>66303.954038</td>\n",
              "      <td>7338.135348</td>\n",
              "      <td>-626.049489</td>\n",
              "      <td>146700.024153</td>\n",
              "      <td>18914.916460</td>\n",
              "      <td>-626.046926</td>\n",
              "    </tr>\n",
              "    <tr>\n",
              "      <th>std</th>\n",
              "      <td>26975.558005</td>\n",
              "      <td>4674.049556</td>\n",
              "      <td>6683.212692</td>\n",
              "      <td>61883.337431</td>\n",
              "      <td>10821.991611</td>\n",
              "      <td>6676.654143</td>\n",
              "    </tr>\n",
              "    <tr>\n",
              "      <th>min</th>\n",
              "      <td>-8743.046824</td>\n",
              "      <td>-8491.565472</td>\n",
              "      <td>-38105.685644</td>\n",
              "      <td>-16593.317216</td>\n",
              "      <td>-8880.563304</td>\n",
              "      <td>-37991.438162</td>\n",
              "    </tr>\n",
              "    <tr>\n",
              "      <th>25%</th>\n",
              "      <td>48927.330588</td>\n",
              "      <td>4108.952077</td>\n",
              "      <td>-4608.203689</td>\n",
              "      <td>108681.237703</td>\n",
              "      <td>11469.558578</td>\n",
              "      <td>-4602.974044</td>\n",
              "    </tr>\n",
              "    <tr>\n",
              "      <th>50%</th>\n",
              "      <td>67752.833590</td>\n",
              "      <td>6572.670038</td>\n",
              "      <td>-359.870065</td>\n",
              "      <td>149067.356760</td>\n",
              "      <td>17287.678759</td>\n",
              "      <td>-361.536874</td>\n",
              "    </tr>\n",
              "    <tr>\n",
              "      <th>75%</th>\n",
              "      <td>86908.622738</td>\n",
              "      <td>9578.781101</td>\n",
              "      <td>3783.586337</td>\n",
              "      <td>194015.013249</td>\n",
              "      <td>24299.767040</td>\n",
              "      <td>3781.904644</td>\n",
              "    </tr>\n",
              "    <tr>\n",
              "      <th>max</th>\n",
              "      <td>136384.766550</td>\n",
              "      <td>32878.249170</td>\n",
              "      <td>29324.645220</td>\n",
              "      <td>293800.671846</td>\n",
              "      <td>73725.169680</td>\n",
              "      <td>29234.712690</td>\n",
              "    </tr>\n",
              "  </tbody>\n",
              "</table>\n",
              "</div>"
            ],
            "text/plain": [
              "       Mudline moment Mx[kNm]  Mudline moment My[kNm]  Mudline moment Mz[kNm]  \\\n",
              "count           102400.000000           102400.000000           102400.000000   \n",
              "mean             66303.954038             7338.135348             -626.049489   \n",
              "std              26975.558005             4674.049556             6683.212692   \n",
              "min              -8743.046824            -8491.565472           -38105.685644   \n",
              "25%              48927.330588             4108.952077            -4608.203689   \n",
              "50%              67752.833590             6572.670038             -359.870065   \n",
              "75%              86908.622738             9578.781101             3783.586337   \n",
              "max             136384.766550            32878.249170            29324.645220   \n",
              "\n",
              "       Waterline moment Mx[kNm]  Waterline moment My[kNm]  \\\n",
              "count             102400.000000             102400.000000   \n",
              "mean              146700.024153              18914.916460   \n",
              "std                61883.337431              10821.991611   \n",
              "min               -16593.317216              -8880.563304   \n",
              "25%               108681.237703              11469.558578   \n",
              "50%               149067.356760              17287.678759   \n",
              "75%               194015.013249              24299.767040   \n",
              "max               293800.671846              73725.169680   \n",
              "\n",
              "       Waterline moment Mz[kNm]  \n",
              "count             102400.000000  \n",
              "mean                -626.046926  \n",
              "std                 6676.654143  \n",
              "min               -37991.438162  \n",
              "25%                -4602.974044  \n",
              "50%                 -361.536874  \n",
              "75%                 3781.904644  \n",
              "max                29234.712690  "
            ]
          },
          "execution_count": 11,
          "metadata": {},
          "output_type": "execute_result"
        }
      ],
      "source": [
        "df[y_columns].describe()"
      ]
    },
    {
      "cell_type": "code",
      "execution_count": 8,
      "metadata": {
        "gather": {
          "logged": 1698409565781
        },
        "jupyter": {
          "outputs_hidden": false,
          "source_hidden": false
        },
        "nteract": {
          "transient": {
            "deleting": false
          }
        }
      },
      "outputs": [
        {
          "data": {
            "text/html": [
              "<div>\n",
              "<style scoped>\n",
              "    .dataframe tbody tr th:only-of-type {\n",
              "        vertical-align: middle;\n",
              "    }\n",
              "\n",
              "    .dataframe tbody tr th {\n",
              "        vertical-align: top;\n",
              "    }\n",
              "\n",
              "    .dataframe thead th {\n",
              "        text-align: right;\n",
              "    }\n",
              "</style>\n",
              "<table border=\"1\" class=\"dataframe\">\n",
              "  <thead>\n",
              "    <tr style=\"text-align: right;\">\n",
              "      <th></th>\n",
              "      <th>Rotor azimuth [deg]</th>\n",
              "      <th>Rotor rotational speed [rpm]</th>\n",
              "      <th>Blade 1 pitch angle [deg]</th>\n",
              "      <th>Blade 2 pitch angle [deg]</th>\n",
              "      <th>Blade 3 pitch angle [deg]</th>\n",
              "      <th>Generator LSS torque [Nm]</th>\n",
              "      <th>Electrical power [W]</th>\n",
              "      <th>Bedframe moment [Nm]</th>\n",
              "      <th>Generator HSS torque [Nm]</th>\n",
              "      <th>Mudline moment Mx[kNm]</th>\n",
              "      <th>...</th>\n",
              "      <th>Free wind speed Vy pos   55.00,   0.00, -95.00</th>\n",
              "      <th>Free wind speed Vz pos   55.00,   0.00, -95.00</th>\n",
              "      <th>Free wind speed Vx pos  -55.00,   0.00,-205.00</th>\n",
              "      <th>Free wind speed Vy pos  -55.00,   0.00,-205.00</th>\n",
              "      <th>Free wind speed Vz pos  -55.00,   0.00,-205.00</th>\n",
              "      <th>Free wind speed Vx pos  -55.00,   0.00, -95.00</th>\n",
              "      <th>Free wind speed Vy pos  -55.00,   0.00, -95.00</th>\n",
              "      <th>Free wind speed Vz pos  -55.00,   0.00, -95.00</th>\n",
              "      <th>Water surface elevation [m]</th>\n",
              "      <th>id</th>\n",
              "    </tr>\n",
              "    <tr>\n",
              "      <th>Time</th>\n",
              "      <th></th>\n",
              "      <th></th>\n",
              "      <th></th>\n",
              "      <th></th>\n",
              "      <th></th>\n",
              "      <th></th>\n",
              "      <th></th>\n",
              "      <th></th>\n",
              "      <th></th>\n",
              "      <th></th>\n",
              "      <th></th>\n",
              "      <th></th>\n",
              "      <th></th>\n",
              "      <th></th>\n",
              "      <th></th>\n",
              "      <th></th>\n",
              "      <th></th>\n",
              "      <th></th>\n",
              "      <th></th>\n",
              "      <th></th>\n",
              "      <th></th>\n",
              "    </tr>\n",
              "  </thead>\n",
              "  <tbody>\n",
              "    <tr>\n",
              "      <th>0 days 00:00:51.210000</th>\n",
              "      <td>125.491519</td>\n",
              "      <td>5.069791</td>\n",
              "      <td>0.000531</td>\n",
              "      <td>0.000531</td>\n",
              "      <td>0.000531</td>\n",
              "      <td>-8.819962e+06</td>\n",
              "      <td>4520766.702</td>\n",
              "      <td>0.0</td>\n",
              "      <td>-8.819962e+06</td>\n",
              "      <td>53983.62800</td>\n",
              "      <td>...</td>\n",
              "      <td>8.995823</td>\n",
              "      <td>0.129825</td>\n",
              "      <td>-3.410884</td>\n",
              "      <td>7.417552</td>\n",
              "      <td>0.309085</td>\n",
              "      <td>-1.087036</td>\n",
              "      <td>6.050485</td>\n",
              "      <td>-0.818903</td>\n",
              "      <td>-0.190988</td>\n",
              "      <td>Exp1.1</td>\n",
              "    </tr>\n",
              "    <tr>\n",
              "      <th>0 days 00:00:51.260000</th>\n",
              "      <td>127.010242</td>\n",
              "      <td>5.070079</td>\n",
              "      <td>0.000531</td>\n",
              "      <td>0.000531</td>\n",
              "      <td>0.000531</td>\n",
              "      <td>-8.824104e+06</td>\n",
              "      <td>4523432.494</td>\n",
              "      <td>0.0</td>\n",
              "      <td>-8.824104e+06</td>\n",
              "      <td>53663.18725</td>\n",
              "      <td>...</td>\n",
              "      <td>8.991990</td>\n",
              "      <td>0.166382</td>\n",
              "      <td>-3.399229</td>\n",
              "      <td>7.424240</td>\n",
              "      <td>0.285645</td>\n",
              "      <td>-1.144891</td>\n",
              "      <td>6.018922</td>\n",
              "      <td>-0.837860</td>\n",
              "      <td>-0.241573</td>\n",
              "      <td>Exp1.1</td>\n",
              "    </tr>\n",
              "    <tr>\n",
              "      <th>0 days 00:00:51.310000</th>\n",
              "      <td>128.528965</td>\n",
              "      <td>5.068673</td>\n",
              "      <td>0.000531</td>\n",
              "      <td>0.000531</td>\n",
              "      <td>0.000531</td>\n",
              "      <td>-8.820176e+06</td>\n",
              "      <td>4520475.131</td>\n",
              "      <td>0.0</td>\n",
              "      <td>-8.820176e+06</td>\n",
              "      <td>53264.08700</td>\n",
              "      <td>...</td>\n",
              "      <td>8.991340</td>\n",
              "      <td>0.210677</td>\n",
              "      <td>-3.378393</td>\n",
              "      <td>7.431984</td>\n",
              "      <td>0.268171</td>\n",
              "      <td>-1.207049</td>\n",
              "      <td>5.985420</td>\n",
              "      <td>-0.850278</td>\n",
              "      <td>-0.288491</td>\n",
              "      <td>Exp1.1</td>\n",
              "    </tr>\n",
              "    <tr>\n",
              "      <th>0 days 00:00:51.360000</th>\n",
              "      <td>130.056688</td>\n",
              "      <td>5.066654</td>\n",
              "      <td>0.000531</td>\n",
              "      <td>0.000531</td>\n",
              "      <td>0.000531</td>\n",
              "      <td>-8.806109e+06</td>\n",
              "      <td>4511478.083</td>\n",
              "      <td>0.0</td>\n",
              "      <td>-8.806109e+06</td>\n",
              "      <td>52834.68350</td>\n",
              "      <td>...</td>\n",
              "      <td>8.991795</td>\n",
              "      <td>0.266327</td>\n",
              "      <td>-3.375861</td>\n",
              "      <td>7.438085</td>\n",
              "      <td>0.287174</td>\n",
              "      <td>-1.240493</td>\n",
              "      <td>5.955371</td>\n",
              "      <td>-0.884662</td>\n",
              "      <td>-0.333039</td>\n",
              "      <td>Exp1.1</td>\n",
              "    </tr>\n",
              "    <tr>\n",
              "      <th>0 days 00:00:51.410000</th>\n",
              "      <td>131.577661</td>\n",
              "      <td>5.064923</td>\n",
              "      <td>0.000531</td>\n",
              "      <td>0.000531</td>\n",
              "      <td>0.000531</td>\n",
              "      <td>-8.787971e+06</td>\n",
              "      <td>4500606.650</td>\n",
              "      <td>0.0</td>\n",
              "      <td>-8.787971e+06</td>\n",
              "      <td>52405.92475</td>\n",
              "      <td>...</td>\n",
              "      <td>8.993224</td>\n",
              "      <td>0.316584</td>\n",
              "      <td>-3.373300</td>\n",
              "      <td>7.444479</td>\n",
              "      <td>0.302958</td>\n",
              "      <td>-1.272780</td>\n",
              "      <td>5.924838</td>\n",
              "      <td>-0.928391</td>\n",
              "      <td>-0.373628</td>\n",
              "      <td>Exp1.1</td>\n",
              "    </tr>\n",
              "  </tbody>\n",
              "</table>\n",
              "<p>5 rows × 148 columns</p>\n",
              "</div>"
            ],
            "text/plain": [
              "                        Rotor azimuth [deg]  Rotor rotational speed [rpm]  \\\n",
              "Time                                                                        \n",
              "0 days 00:00:51.210000           125.491519                      5.069791   \n",
              "0 days 00:00:51.260000           127.010242                      5.070079   \n",
              "0 days 00:00:51.310000           128.528965                      5.068673   \n",
              "0 days 00:00:51.360000           130.056688                      5.066654   \n",
              "0 days 00:00:51.410000           131.577661                      5.064923   \n",
              "\n",
              "                        Blade 1 pitch angle [deg]  Blade 2 pitch angle [deg]  \\\n",
              "Time                                                                           \n",
              "0 days 00:00:51.210000                   0.000531                   0.000531   \n",
              "0 days 00:00:51.260000                   0.000531                   0.000531   \n",
              "0 days 00:00:51.310000                   0.000531                   0.000531   \n",
              "0 days 00:00:51.360000                   0.000531                   0.000531   \n",
              "0 days 00:00:51.410000                   0.000531                   0.000531   \n",
              "\n",
              "                        Blade 3 pitch angle [deg]  Generator LSS torque [Nm]  \\\n",
              "Time                                                                           \n",
              "0 days 00:00:51.210000                   0.000531              -8.819962e+06   \n",
              "0 days 00:00:51.260000                   0.000531              -8.824104e+06   \n",
              "0 days 00:00:51.310000                   0.000531              -8.820176e+06   \n",
              "0 days 00:00:51.360000                   0.000531              -8.806109e+06   \n",
              "0 days 00:00:51.410000                   0.000531              -8.787971e+06   \n",
              "\n",
              "                        Electrical power [W]  Bedframe moment [Nm]  \\\n",
              "Time                                                                 \n",
              "0 days 00:00:51.210000           4520766.702                   0.0   \n",
              "0 days 00:00:51.260000           4523432.494                   0.0   \n",
              "0 days 00:00:51.310000           4520475.131                   0.0   \n",
              "0 days 00:00:51.360000           4511478.083                   0.0   \n",
              "0 days 00:00:51.410000           4500606.650                   0.0   \n",
              "\n",
              "                        Generator HSS torque [Nm]  Mudline moment Mx[kNm]  \\\n",
              "Time                                                                        \n",
              "0 days 00:00:51.210000              -8.819962e+06             53983.62800   \n",
              "0 days 00:00:51.260000              -8.824104e+06             53663.18725   \n",
              "0 days 00:00:51.310000              -8.820176e+06             53264.08700   \n",
              "0 days 00:00:51.360000              -8.806109e+06             52834.68350   \n",
              "0 days 00:00:51.410000              -8.787971e+06             52405.92475   \n",
              "\n",
              "                        ...  Free wind speed Vy pos   55.00,   0.00, -95.00  \\\n",
              "Time                    ...                                                   \n",
              "0 days 00:00:51.210000  ...                                        8.995823   \n",
              "0 days 00:00:51.260000  ...                                        8.991990   \n",
              "0 days 00:00:51.310000  ...                                        8.991340   \n",
              "0 days 00:00:51.360000  ...                                        8.991795   \n",
              "0 days 00:00:51.410000  ...                                        8.993224   \n",
              "\n",
              "                        Free wind speed Vz pos   55.00,   0.00, -95.00  \\\n",
              "Time                                                                     \n",
              "0 days 00:00:51.210000                                        0.129825   \n",
              "0 days 00:00:51.260000                                        0.166382   \n",
              "0 days 00:00:51.310000                                        0.210677   \n",
              "0 days 00:00:51.360000                                        0.266327   \n",
              "0 days 00:00:51.410000                                        0.316584   \n",
              "\n",
              "                        Free wind speed Vx pos  -55.00,   0.00,-205.00  \\\n",
              "Time                                                                     \n",
              "0 days 00:00:51.210000                                       -3.410884   \n",
              "0 days 00:00:51.260000                                       -3.399229   \n",
              "0 days 00:00:51.310000                                       -3.378393   \n",
              "0 days 00:00:51.360000                                       -3.375861   \n",
              "0 days 00:00:51.410000                                       -3.373300   \n",
              "\n",
              "                        Free wind speed Vy pos  -55.00,   0.00,-205.00  \\\n",
              "Time                                                                     \n",
              "0 days 00:00:51.210000                                        7.417552   \n",
              "0 days 00:00:51.260000                                        7.424240   \n",
              "0 days 00:00:51.310000                                        7.431984   \n",
              "0 days 00:00:51.360000                                        7.438085   \n",
              "0 days 00:00:51.410000                                        7.444479   \n",
              "\n",
              "                        Free wind speed Vz pos  -55.00,   0.00,-205.00  \\\n",
              "Time                                                                     \n",
              "0 days 00:00:51.210000                                        0.309085   \n",
              "0 days 00:00:51.260000                                        0.285645   \n",
              "0 days 00:00:51.310000                                        0.268171   \n",
              "0 days 00:00:51.360000                                        0.287174   \n",
              "0 days 00:00:51.410000                                        0.302958   \n",
              "\n",
              "                        Free wind speed Vx pos  -55.00,   0.00, -95.00  \\\n",
              "Time                                                                     \n",
              "0 days 00:00:51.210000                                       -1.087036   \n",
              "0 days 00:00:51.260000                                       -1.144891   \n",
              "0 days 00:00:51.310000                                       -1.207049   \n",
              "0 days 00:00:51.360000                                       -1.240493   \n",
              "0 days 00:00:51.410000                                       -1.272780   \n",
              "\n",
              "                        Free wind speed Vy pos  -55.00,   0.00, -95.00  \\\n",
              "Time                                                                     \n",
              "0 days 00:00:51.210000                                        6.050485   \n",
              "0 days 00:00:51.260000                                        6.018922   \n",
              "0 days 00:00:51.310000                                        5.985420   \n",
              "0 days 00:00:51.360000                                        5.955371   \n",
              "0 days 00:00:51.410000                                        5.924838   \n",
              "\n",
              "                        Free wind speed Vz pos  -55.00,   0.00, -95.00  \\\n",
              "Time                                                                     \n",
              "0 days 00:00:51.210000                                       -0.818903   \n",
              "0 days 00:00:51.260000                                       -0.837860   \n",
              "0 days 00:00:51.310000                                       -0.850278   \n",
              "0 days 00:00:51.360000                                       -0.884662   \n",
              "0 days 00:00:51.410000                                       -0.928391   \n",
              "\n",
              "                        Water surface elevation [m]      id  \n",
              "Time                                                         \n",
              "0 days 00:00:51.210000                    -0.190988  Exp1.1  \n",
              "0 days 00:00:51.260000                    -0.241573  Exp1.1  \n",
              "0 days 00:00:51.310000                    -0.288491  Exp1.1  \n",
              "0 days 00:00:51.360000                    -0.333039  Exp1.1  \n",
              "0 days 00:00:51.410000                    -0.373628  Exp1.1  \n",
              "\n",
              "[5 rows x 148 columns]"
            ]
          },
          "execution_count": 8,
          "metadata": {},
          "output_type": "execute_result"
        }
      ],
      "source": [
        "series = {k: v for k, v in df.groupby('id')}\n",
        "series['Exp1.1'].head()"
      ]
    },
    {
      "cell_type": "code",
      "execution_count": null,
      "metadata": {
        "gather": {
          "logged": 1697547752011
        },
        "jupyter": {
          "outputs_hidden": false,
          "source_hidden": false
        },
        "nteract": {
          "transient": {
            "deleting": false
          }
        }
      },
      "outputs": [],
      "source": [
        "import matplotlib.pyplot as plt\n",
        "\n",
        "serie = series['Exp1.1']\n",
        "serie[['Electrical power [W]']].plot()\n"
      ]
    },
    {
      "cell_type": "code",
      "execution_count": 4,
      "metadata": {
        "gather": {
          "logged": 1697786956347
        },
        "jupyter": {
          "outputs_hidden": false,
          "source_hidden": false
        },
        "nteract": {
          "transient": {
            "deleting": false
          }
        }
      },
      "outputs": [],
      "source": [
        "from azure.ai.ml import command\n",
        "\n",
        "job = command(\n",
        "    inputs=dict(\n",
        "        data=data_asset.path,\n",
        "        test_train_ratio=0.2,\n",
        "        learning_rate=0.25\n",
        "    ),\n",
        "    code=\"./src/\",  # location of source code\n",
        "    command=\"python test.py --data ${{inputs.data}} --test_train_ratio ${{inputs.test_train_ratio}} --learning_rate ${{inputs.learning_rate}}\",\n",
        "    environment=\"torch_mlflow@latest\",\n",
        "    display_name=\"test_parquet-8\",\n",
        "    compute=None\n",
        ")"
      ]
    },
    {
      "cell_type": "code",
      "execution_count": 5,
      "metadata": {
        "gather": {
          "logged": 1697786963312
        },
        "jupyter": {
          "outputs_hidden": false,
          "source_hidden": false
        },
        "nteract": {
          "transient": {
            "deleting": false
          }
        }
      },
      "outputs": [
        {
          "name": "stderr",
          "output_type": "stream",
          "text": [
            "Class AutoDeleteSettingSchema: This is an experimental class, and may change at any time. Please see https://aka.ms/azuremlexperimental for more information.\n",
            "Class AutoDeleteConditionSchema: This is an experimental class, and may change at any time. Please see https://aka.ms/azuremlexperimental for more information.\n",
            "Class BaseAutoDeleteSettingSchema: This is an experimental class, and may change at any time. Please see https://aka.ms/azuremlexperimental for more information.\n",
            "Class IntellectualPropertySchema: This is an experimental class, and may change at any time. Please see https://aka.ms/azuremlexperimental for more information.\n",
            "Class ProtectionLevelSchema: This is an experimental class, and may change at any time. Please see https://aka.ms/azuremlexperimental for more information.\n",
            "Class BaseIntellectualPropertySchema: This is an experimental class, and may change at any time. Please see https://aka.ms/azuremlexperimental for more information.\n",
            "\u001b[32mUploading src (0.01 MBs): 100%|██████████| 8381/8381 [00:00<00:00, 71954.41it/s]\n",
            "\u001b[39m\n",
            "\n"
          ]
        },
        {
          "data": {
            "text/html": [
              "<table style=\"width:100%\"><tr><th>Experiment</th><th>Name</th><th>Type</th><th>Status</th><th>Details Page</th></tr><tr><td>get-started-notebooks</td><td>nifty_yuca_7jyl5wyvqp</td><td>command</td><td>Starting</td><td><a href=\"https://ml.azure.com/runs/nifty_yuca_7jyl5wyvqp?wsid=/subscriptions/239dc480-600f-413c-ae8c-8a5bbc17ed87/resourcegroups/rg-ml-jef/workspaces/mltry&amp;tid=a5f45877-d373-4cb1-8d3e-ecc605803833\" target=\"_blank\" rel=\"noopener\">Link to Azure Machine Learning studio</a></td></tr></table>"
            ],
            "text/plain": [
              "Command({'parameters': {}, 'init': False, 'name': 'nifty_yuca_7jyl5wyvqp', 'type': 'command', 'status': 'Starting', 'log_files': None, 'description': None, 'tags': {}, 'properties': {'_azureml.ComputeTargetType': 'amlctrain', 'ContentSnapshotId': 'd8f83278-5567-4216-b5fd-f06e56da1e9b'}, 'print_as_yaml': True, 'id': '/subscriptions/239dc480-600f-413c-ae8c-8a5bbc17ed87/resourceGroups/rg-ml-jef/providers/Microsoft.MachineLearningServices/workspaces/mltry/jobs/nifty_yuca_7jyl5wyvqp', 'Resource__source_path': None, 'base_path': '/mnt/batch/tasks/shared/LS_root/mounts/clusters/jef1/code/Users/jef/get-started-notebooks', 'creation_context': <azure.ai.ml.entities._system_data.SystemData object at 0x7ff999eff9a0>, 'serialize': <msrest.serialization.Serializer object at 0x7ff999efee90>, 'allowed_keys': {}, 'key_restriction': False, 'logger': <Logger attr_dict (WARNING)>, 'display_name': 'test_parquet-8', 'experiment_name': 'get-started-notebooks', 'compute': None, 'services': {'Tracking': {'endpoint': 'azureml://eastus.api.azureml.ms/mlflow/v1.0/subscriptions/239dc480-600f-413c-ae8c-8a5bbc17ed87/resourceGroups/rg-ml-jef/providers/Microsoft.MachineLearningServices/workspaces/mltry?', 'type': 'Tracking'}, 'Studio': {'endpoint': 'https://ml.azure.com/runs/nifty_yuca_7jyl5wyvqp?wsid=/subscriptions/239dc480-600f-413c-ae8c-8a5bbc17ed87/resourcegroups/rg-ml-jef/workspaces/mltry&tid=a5f45877-d373-4cb1-8d3e-ecc605803833', 'type': 'Studio'}}, 'comment': None, 'job_inputs': {'data': 'azureml://subscriptions/239dc480-600f-413c-ae8c-8a5bbc17ed87/resourcegroups/rg-ml-jef/workspaces/mltry/datastores/workspaceblobstore/paths/LocalUpload/e371ee7f73e78305a4dda0ecbf7ff7c9/wind_bench.parquet/', 'test_train_ratio': '0.2', 'learning_rate': '0.25'}, 'job_outputs': {'default': {'type': 'uri_folder', 'path': 'azureml://datastores/workspaceartifactstore/ExperimentRun/dcid.nifty_yuca_7jyl5wyvqp', 'mode': 'rw_mount'}}, 'inputs': {'data': <azure.ai.ml.entities._job.pipeline._io.base.NodeInput object at 0x7ff999effd30>, 'test_train_ratio': <azure.ai.ml.entities._job.pipeline._io.base.NodeInput object at 0x7ff999eff040>, 'learning_rate': <azure.ai.ml.entities._job.pipeline._io.base.NodeInput object at 0x7ff999efeec0>}, 'outputs': {'default': <azure.ai.ml.entities._job.pipeline._io.base.NodeOutput object at 0x7ff999f40c10>}, 'component': CommandComponent({'intellectual_property': None, 'auto_increment_version': True, 'source': 'REMOTE.WORKSPACE.JOB', 'is_anonymous': False, 'auto_delete_setting': None, 'name': 'nifty_yuca_7jyl5wyvqp', 'description': None, 'tags': {}, 'properties': {}, 'print_as_yaml': True, 'id': None, 'Resource__source_path': None, 'base_path': PosixPath('.'), 'creation_context': <azure.ai.ml.entities._system_data.SystemData object at 0x7ff999eff9a0>, 'serialize': <msrest.serialization.Serializer object at 0x7ff999efffd0>, 'command': 'python test.py --data ${{inputs.data}} --test_train_ratio ${{inputs.test_train_ratio}} --learning_rate ${{inputs.learning_rate}}', 'code': '/subscriptions/239dc480-600f-413c-ae8c-8a5bbc17ed87/resourceGroups/rg-ml-jef/providers/Microsoft.MachineLearningServices/workspaces/mltry/codes/04ad6c49-88d6-43de-8b1f-1acda7af4bcf/versions/1', 'environment_variables': {}, 'environment': '/subscriptions/239dc480-600f-413c-ae8c-8a5bbc17ed87/resourceGroups/rg-ml-jef/providers/Microsoft.MachineLearningServices/workspaces/mltry/environments/torch_mlflow/versions/1', 'distribution': None, 'resources': None, 'queue_settings': None, 'version': None, 'latest_version': None, 'schema': None, 'type': 'command', 'display_name': 'test_parquet-8', 'is_deterministic': True, 'inputs': {'data': {'type': 'string', 'default': 'azureml://subscriptions/239dc480-600f-413c-ae8c-8a5bbc17ed87/resourcegroups/rg-ml-jef/workspaces/mltry/datastores/workspaceblobstore/paths/LocalUpload/e371ee7f73e78305a4dda0ecbf7ff7c9/wind_bench.parquet/'}, 'test_train_ratio': {'type': 'string', 'default': '0.2'}, 'learning_rate': {'type': 'string', 'default': '0.25'}}, 'outputs': {'default': {'type': 'uri_folder', 'path': 'azureml://datastores/workspaceartifactstore/ExperimentRun/dcid.nifty_yuca_7jyl5wyvqp', 'mode': 'rw_mount'}}, 'yaml_str': None, 'other_parameter': {'status': 'Starting', 'parameters': {}}, 'additional_includes': [], 'CommandComponent__additional_includes_obj': None}), 'referenced_control_flow_node_instance_id': None, 'kwargs': {'services': {'Tracking': {'endpoint': 'azureml://eastus.api.azureml.ms/mlflow/v1.0/subscriptions/239dc480-600f-413c-ae8c-8a5bbc17ed87/resourceGroups/rg-ml-jef/providers/Microsoft.MachineLearningServices/workspaces/mltry?', 'type': 'Tracking'}, 'Studio': {'endpoint': 'https://ml.azure.com/runs/nifty_yuca_7jyl5wyvqp?wsid=/subscriptions/239dc480-600f-413c-ae8c-8a5bbc17ed87/resourcegroups/rg-ml-jef/workspaces/mltry&tid=a5f45877-d373-4cb1-8d3e-ecc605803833', 'type': 'Studio'}}, 'status': 'Starting', 'creation_context': <azure.ai.ml.entities._system_data.SystemData object at 0x7ff999eff9a0>}, 'instance_id': 'e4058c9a-f98a-4a86-84f2-eae89f87e7c8', 'source': 'BUILDER', 'validate_required_input_not_provided': True, 'limits': None, 'identity': None, 'distribution': None, 'environment_variables': {}, 'environment': 'torch_mlflow:1', 'resources': {'instance_count': 1, 'shm_size': '2g'}, 'queue_settings': {'job_tier': 'standard'}, 'swept': False})"
            ]
          },
          "execution_count": 5,
          "metadata": {},
          "output_type": "execute_result"
        }
      ],
      "source": [
        "ml_client.create_or_update(job)"
      ]
    },
    {
      "cell_type": "code",
      "execution_count": 10,
      "metadata": {
        "gather": {
          "logged": 1697704580160
        },
        "jupyter": {
          "outputs_hidden": false,
          "source_hidden": false
        },
        "nteract": {
          "transient": {
            "deleting": false
          }
        }
      },
      "outputs": [
        {
          "name": "stdout",
          "output_type": "stream",
          "text": [
            "azureml://subscriptions/239dc480-600f-413c-ae8c-8a5bbc17ed87/resourcegroups/rg-ml-jef/workspaces/mltry/datastores/workspaceblobstore/paths/LocalUpload/e371ee7f73e78305a4dda0ecbf7ff7c9/wind_bench.parquet/\n",
            "LocalUpload/e371ee7f73e78305a4dda0ecbf7ff7c9/wind_bench.parquet/id=Exp0.0/2908f0244c774e8786ae9acf46715df3-0.parquet\n"
          ]
        },
        {
          "data": {
            "text/html": [
              "<div>\n",
              "<style scoped>\n",
              "    .dataframe tbody tr th:only-of-type {\n",
              "        vertical-align: middle;\n",
              "    }\n",
              "\n",
              "    .dataframe tbody tr th {\n",
              "        vertical-align: top;\n",
              "    }\n",
              "\n",
              "    .dataframe thead th {\n",
              "        text-align: right;\n",
              "    }\n",
              "</style>\n",
              "<table border=\"1\" class=\"dataframe\">\n",
              "  <thead>\n",
              "    <tr style=\"text-align: right;\">\n",
              "      <th></th>\n",
              "      <th>Rotor azimuth [deg]</th>\n",
              "      <th>Rotor rotational speed [rpm]</th>\n",
              "      <th>Blade 1 pitch angle [deg]</th>\n",
              "      <th>Blade 2 pitch angle [deg]</th>\n",
              "      <th>Blade 3 pitch angle [deg]</th>\n",
              "      <th>Generator LSS torque [Nm]</th>\n",
              "      <th>Electrical power [W]</th>\n",
              "      <th>Bedframe moment [Nm]</th>\n",
              "      <th>Generator HSS torque [Nm]</th>\n",
              "      <th>Mudline moment Mx[kNm]</th>\n",
              "      <th>...</th>\n",
              "      <th>Free wind speed Vx pos   55.00,   0.00, -95.00</th>\n",
              "      <th>Free wind speed Vy pos   55.00,   0.00, -95.00</th>\n",
              "      <th>Free wind speed Vz pos   55.00,   0.00, -95.00</th>\n",
              "      <th>Free wind speed Vx pos  -55.00,   0.00,-205.00</th>\n",
              "      <th>Free wind speed Vy pos  -55.00,   0.00,-205.00</th>\n",
              "      <th>Free wind speed Vz pos  -55.00,   0.00,-205.00</th>\n",
              "      <th>Free wind speed Vx pos  -55.00,   0.00, -95.00</th>\n",
              "      <th>Free wind speed Vy pos  -55.00,   0.00, -95.00</th>\n",
              "      <th>Free wind speed Vz pos  -55.00,   0.00, -95.00</th>\n",
              "      <th>Water surface elevation [m]</th>\n",
              "    </tr>\n",
              "    <tr>\n",
              "      <th>Time</th>\n",
              "      <th></th>\n",
              "      <th></th>\n",
              "      <th></th>\n",
              "      <th></th>\n",
              "      <th></th>\n",
              "      <th></th>\n",
              "      <th></th>\n",
              "      <th></th>\n",
              "      <th></th>\n",
              "      <th></th>\n",
              "      <th></th>\n",
              "      <th></th>\n",
              "      <th></th>\n",
              "      <th></th>\n",
              "      <th></th>\n",
              "      <th></th>\n",
              "      <th></th>\n",
              "      <th></th>\n",
              "      <th></th>\n",
              "      <th></th>\n",
              "      <th></th>\n",
              "    </tr>\n",
              "  </thead>\n",
              "  <tbody>\n",
              "    <tr>\n",
              "      <th>0 days 00:00:00.010000</th>\n",
              "      <td>66.556067</td>\n",
              "      <td>7.672028</td>\n",
              "      <td>0.520026</td>\n",
              "      <td>0.519916</td>\n",
              "      <td>0.519917</td>\n",
              "      <td>-1.948289e+07</td>\n",
              "      <td>1.510994e+07</td>\n",
              "      <td>0.0</td>\n",
              "      <td>-1.948289e+07</td>\n",
              "      <td>122300.083752</td>\n",
              "      <td>...</td>\n",
              "      <td>-3.559559</td>\n",
              "      <td>8.530156</td>\n",
              "      <td>-0.126334</td>\n",
              "      <td>-2.942660</td>\n",
              "      <td>8.313082</td>\n",
              "      <td>-0.242131</td>\n",
              "      <td>-3.114716</td>\n",
              "      <td>11.832829</td>\n",
              "      <td>0.599726</td>\n",
              "      <td>-0.058321</td>\n",
              "    </tr>\n",
              "    <tr>\n",
              "      <th>0 days 00:00:00.060000</th>\n",
              "      <td>68.860026</td>\n",
              "      <td>7.677732</td>\n",
              "      <td>0.528227</td>\n",
              "      <td>0.528132</td>\n",
              "      <td>0.528133</td>\n",
              "      <td>-1.958159e+07</td>\n",
              "      <td>1.519899e+07</td>\n",
              "      <td>0.0</td>\n",
              "      <td>-1.958159e+07</td>\n",
              "      <td>123523.029784</td>\n",
              "      <td>...</td>\n",
              "      <td>-3.587884</td>\n",
              "      <td>8.510981</td>\n",
              "      <td>-0.104801</td>\n",
              "      <td>-2.976881</td>\n",
              "      <td>8.327318</td>\n",
              "      <td>-0.185054</td>\n",
              "      <td>-3.119303</td>\n",
              "      <td>11.840616</td>\n",
              "      <td>0.539415</td>\n",
              "      <td>-0.098596</td>\n",
              "    </tr>\n",
              "    <tr>\n",
              "      <th>0 days 00:00:00.110000</th>\n",
              "      <td>71.166235</td>\n",
              "      <td>7.679375</td>\n",
              "      <td>0.536139</td>\n",
              "      <td>0.536058</td>\n",
              "      <td>0.536045</td>\n",
              "      <td>-1.961654e+07</td>\n",
              "      <td>1.523091e+07</td>\n",
              "      <td>0.0</td>\n",
              "      <td>-1.961654e+07</td>\n",
              "      <td>123776.701048</td>\n",
              "      <td>...</td>\n",
              "      <td>-3.625911</td>\n",
              "      <td>8.496323</td>\n",
              "      <td>-0.142878</td>\n",
              "      <td>-2.987754</td>\n",
              "      <td>8.348031</td>\n",
              "      <td>-0.153502</td>\n",
              "      <td>-3.112289</td>\n",
              "      <td>11.845533</td>\n",
              "      <td>0.438913</td>\n",
              "      <td>-0.142723</td>\n",
              "    </tr>\n",
              "    <tr>\n",
              "      <th>0 days 00:00:00.160000</th>\n",
              "      <td>73.470194</td>\n",
              "      <td>7.677345</td>\n",
              "      <td>0.543834</td>\n",
              "      <td>0.543752</td>\n",
              "      <td>0.543754</td>\n",
              "      <td>-1.961114e+07</td>\n",
              "      <td>1.522401e+07</td>\n",
              "      <td>0.0</td>\n",
              "      <td>-1.961114e+07</td>\n",
              "      <td>122898.246856</td>\n",
              "      <td>...</td>\n",
              "      <td>-3.632668</td>\n",
              "      <td>8.491040</td>\n",
              "      <td>-0.183655</td>\n",
              "      <td>-3.006875</td>\n",
              "      <td>8.365335</td>\n",
              "      <td>-0.150289</td>\n",
              "      <td>-3.137754</td>\n",
              "      <td>11.833485</td>\n",
              "      <td>0.328324</td>\n",
              "      <td>-0.188766</td>\n",
              "    </tr>\n",
              "    <tr>\n",
              "      <th>0 days 00:00:00.210000</th>\n",
              "      <td>75.767403</td>\n",
              "      <td>7.673720</td>\n",
              "      <td>0.551354</td>\n",
              "      <td>0.551258</td>\n",
              "      <td>0.551260</td>\n",
              "      <td>-1.958625e+07</td>\n",
              "      <td>1.519774e+07</td>\n",
              "      <td>0.0</td>\n",
              "      <td>-1.958625e+07</td>\n",
              "      <td>121087.315888</td>\n",
              "      <td>...</td>\n",
              "      <td>-3.616679</td>\n",
              "      <td>8.491636</td>\n",
              "      <td>-0.221247</td>\n",
              "      <td>-3.031143</td>\n",
              "      <td>8.379997</td>\n",
              "      <td>-0.167236</td>\n",
              "      <td>-3.183398</td>\n",
              "      <td>11.810534</td>\n",
              "      <td>0.216735</td>\n",
              "      <td>-0.237811</td>\n",
              "    </tr>\n",
              "  </tbody>\n",
              "</table>\n",
              "<p>5 rows × 147 columns</p>\n",
              "</div>"
            ],
            "text/plain": [
              "                        Rotor azimuth [deg]  Rotor rotational speed [rpm]  \\\n",
              "Time                                                                        \n",
              "0 days 00:00:00.010000            66.556067                      7.672028   \n",
              "0 days 00:00:00.060000            68.860026                      7.677732   \n",
              "0 days 00:00:00.110000            71.166235                      7.679375   \n",
              "0 days 00:00:00.160000            73.470194                      7.677345   \n",
              "0 days 00:00:00.210000            75.767403                      7.673720   \n",
              "\n",
              "                        Blade 1 pitch angle [deg]  Blade 2 pitch angle [deg]  \\\n",
              "Time                                                                           \n",
              "0 days 00:00:00.010000                   0.520026                   0.519916   \n",
              "0 days 00:00:00.060000                   0.528227                   0.528132   \n",
              "0 days 00:00:00.110000                   0.536139                   0.536058   \n",
              "0 days 00:00:00.160000                   0.543834                   0.543752   \n",
              "0 days 00:00:00.210000                   0.551354                   0.551258   \n",
              "\n",
              "                        Blade 3 pitch angle [deg]  Generator LSS torque [Nm]  \\\n",
              "Time                                                                           \n",
              "0 days 00:00:00.010000                   0.519917              -1.948289e+07   \n",
              "0 days 00:00:00.060000                   0.528133              -1.958159e+07   \n",
              "0 days 00:00:00.110000                   0.536045              -1.961654e+07   \n",
              "0 days 00:00:00.160000                   0.543754              -1.961114e+07   \n",
              "0 days 00:00:00.210000                   0.551260              -1.958625e+07   \n",
              "\n",
              "                        Electrical power [W]  Bedframe moment [Nm]  \\\n",
              "Time                                                                 \n",
              "0 days 00:00:00.010000          1.510994e+07                   0.0   \n",
              "0 days 00:00:00.060000          1.519899e+07                   0.0   \n",
              "0 days 00:00:00.110000          1.523091e+07                   0.0   \n",
              "0 days 00:00:00.160000          1.522401e+07                   0.0   \n",
              "0 days 00:00:00.210000          1.519774e+07                   0.0   \n",
              "\n",
              "                        Generator HSS torque [Nm]  Mudline moment Mx[kNm]  \\\n",
              "Time                                                                        \n",
              "0 days 00:00:00.010000              -1.948289e+07           122300.083752   \n",
              "0 days 00:00:00.060000              -1.958159e+07           123523.029784   \n",
              "0 days 00:00:00.110000              -1.961654e+07           123776.701048   \n",
              "0 days 00:00:00.160000              -1.961114e+07           122898.246856   \n",
              "0 days 00:00:00.210000              -1.958625e+07           121087.315888   \n",
              "\n",
              "                        ...  Free wind speed Vx pos   55.00,   0.00, -95.00  \\\n",
              "Time                    ...                                                   \n",
              "0 days 00:00:00.010000  ...                                       -3.559559   \n",
              "0 days 00:00:00.060000  ...                                       -3.587884   \n",
              "0 days 00:00:00.110000  ...                                       -3.625911   \n",
              "0 days 00:00:00.160000  ...                                       -3.632668   \n",
              "0 days 00:00:00.210000  ...                                       -3.616679   \n",
              "\n",
              "                        Free wind speed Vy pos   55.00,   0.00, -95.00  \\\n",
              "Time                                                                     \n",
              "0 days 00:00:00.010000                                        8.530156   \n",
              "0 days 00:00:00.060000                                        8.510981   \n",
              "0 days 00:00:00.110000                                        8.496323   \n",
              "0 days 00:00:00.160000                                        8.491040   \n",
              "0 days 00:00:00.210000                                        8.491636   \n",
              "\n",
              "                        Free wind speed Vz pos   55.00,   0.00, -95.00  \\\n",
              "Time                                                                     \n",
              "0 days 00:00:00.010000                                       -0.126334   \n",
              "0 days 00:00:00.060000                                       -0.104801   \n",
              "0 days 00:00:00.110000                                       -0.142878   \n",
              "0 days 00:00:00.160000                                       -0.183655   \n",
              "0 days 00:00:00.210000                                       -0.221247   \n",
              "\n",
              "                        Free wind speed Vx pos  -55.00,   0.00,-205.00  \\\n",
              "Time                                                                     \n",
              "0 days 00:00:00.010000                                       -2.942660   \n",
              "0 days 00:00:00.060000                                       -2.976881   \n",
              "0 days 00:00:00.110000                                       -2.987754   \n",
              "0 days 00:00:00.160000                                       -3.006875   \n",
              "0 days 00:00:00.210000                                       -3.031143   \n",
              "\n",
              "                        Free wind speed Vy pos  -55.00,   0.00,-205.00  \\\n",
              "Time                                                                     \n",
              "0 days 00:00:00.010000                                        8.313082   \n",
              "0 days 00:00:00.060000                                        8.327318   \n",
              "0 days 00:00:00.110000                                        8.348031   \n",
              "0 days 00:00:00.160000                                        8.365335   \n",
              "0 days 00:00:00.210000                                        8.379997   \n",
              "\n",
              "                        Free wind speed Vz pos  -55.00,   0.00,-205.00  \\\n",
              "Time                                                                     \n",
              "0 days 00:00:00.010000                                       -0.242131   \n",
              "0 days 00:00:00.060000                                       -0.185054   \n",
              "0 days 00:00:00.110000                                       -0.153502   \n",
              "0 days 00:00:00.160000                                       -0.150289   \n",
              "0 days 00:00:00.210000                                       -0.167236   \n",
              "\n",
              "                        Free wind speed Vx pos  -55.00,   0.00, -95.00  \\\n",
              "Time                                                                     \n",
              "0 days 00:00:00.010000                                       -3.114716   \n",
              "0 days 00:00:00.060000                                       -3.119303   \n",
              "0 days 00:00:00.110000                                       -3.112289   \n",
              "0 days 00:00:00.160000                                       -3.137754   \n",
              "0 days 00:00:00.210000                                       -3.183398   \n",
              "\n",
              "                        Free wind speed Vy pos  -55.00,   0.00, -95.00  \\\n",
              "Time                                                                     \n",
              "0 days 00:00:00.010000                                       11.832829   \n",
              "0 days 00:00:00.060000                                       11.840616   \n",
              "0 days 00:00:00.110000                                       11.845533   \n",
              "0 days 00:00:00.160000                                       11.833485   \n",
              "0 days 00:00:00.210000                                       11.810534   \n",
              "\n",
              "                        Free wind speed Vz pos  -55.00,   0.00, -95.00  \\\n",
              "Time                                                                     \n",
              "0 days 00:00:00.010000                                        0.599726   \n",
              "0 days 00:00:00.060000                                        0.539415   \n",
              "0 days 00:00:00.110000                                        0.438913   \n",
              "0 days 00:00:00.160000                                        0.328324   \n",
              "0 days 00:00:00.210000                                        0.216735   \n",
              "\n",
              "                        Water surface elevation [m]  \n",
              "Time                                                 \n",
              "0 days 00:00:00.010000                    -0.058321  \n",
              "0 days 00:00:00.060000                    -0.098596  \n",
              "0 days 00:00:00.110000                    -0.142723  \n",
              "0 days 00:00:00.160000                    -0.188766  \n",
              "0 days 00:00:00.210000                    -0.237811  \n",
              "\n",
              "[5 rows x 147 columns]"
            ]
          },
          "execution_count": 10,
          "metadata": {},
          "output_type": "execute_result"
        }
      ],
      "source": [
        "from azureml.fsspec import AzureMachineLearningFileSystem\n",
        "import pyarrow.parquet as pq\n",
        "\n",
        "import pandas as pd\n",
        "\n",
        "print(data_asset.path)\n",
        "\n",
        "# instantiate file system using following URI\n",
        "fs = AzureMachineLearningFileSystem(data_asset.path)\n",
        "\n",
        "dirs = fs.glob('**/*.parquet') # list folders/files in datastore 'datastorename'\n",
        "\n",
        "# output example:\n",
        "# folder1\n",
        "# folder2\n",
        "# file3.csv\n",
        "print(dirs[0])\n",
        "\n",
        "\n",
        "#table = pq.read_pandas(dirs[0], filesystem=fs)\n",
        "#print(table)\n",
        "with fs.open(dirs[0]) as f:\n",
        "    df = pd.read_parquet(f)\n",
        "df.head()\n"
      ]
    }
  ],
  "metadata": {
    "kernel_info": {
      "name": "python310-sdkv2"
    },
    "kernelspec": {
      "display_name": "venv",
      "language": "python",
      "name": "python3"
    },
    "language_info": {
      "codemirror_mode": {
        "name": "ipython",
        "version": 3
      },
      "file_extension": ".py",
      "mimetype": "text/x-python",
      "name": "python",
      "nbconvert_exporter": "python",
      "pygments_lexer": "ipython3",
      "version": "3.10.7"
    },
    "microsoft": {
      "host": {
        "AzureML": {
          "notebookHasBeenCompleted": true
        }
      },
      "ms_spell_check": {
        "ms_spell_check_language": "en"
      }
    },
    "nteract": {
      "version": "nteract-front-end@1.0.0"
    }
  },
  "nbformat": 4,
  "nbformat_minor": 2
}
